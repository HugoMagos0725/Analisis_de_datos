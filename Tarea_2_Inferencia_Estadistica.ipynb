{
  "nbformat": 4,
  "nbformat_minor": 0,
  "metadata": {
    "colab": {
      "provenance": [],
      "authorship_tag": "ABX9TyNAzGRwSFtyr306H5PSvpUB",
      "include_colab_link": true
    },
    "kernelspec": {
      "name": "python3",
      "display_name": "Python 3"
    },
    "language_info": {
      "name": "python"
    }
  },
  "cells": [
    {
      "cell_type": "markdown",
      "metadata": {
        "id": "view-in-github",
        "colab_type": "text"
      },
      "source": [
        "<a href=\"https://colab.research.google.com/github/HugoMagos0725/Analisis_de_datos/blob/main/Tarea_2_Inferencia_Estadistica.ipynb\" target=\"_parent\"><img src=\"https://colab.research.google.com/assets/colab-badge.svg\" alt=\"Open In Colab\"/></a>"
      ]
    },
    {
      "cell_type": "markdown",
      "source": [
        "**FCFM-BUAP, 2023**"
      ],
      "metadata": {
        "id": "p6Y5IdOcwsqj"
      }
    },
    {
      "cell_type": "markdown",
      "source": [
        "## Proyecto: Inferencia Estadistica\n",
        "Nombre: Hugo Cuautle Magos\n",
        "\n",
        "Matricula: 201847053\n",
        "\n",
        "Materia: Análisis de datos"
      ],
      "metadata": {
        "id": "j1sWWFYilK_V"
      }
    },
    {
      "cell_type": "markdown",
      "source": [
        "# Problema 1:\n",
        "\n",
        "Los siguientes datos\n"
      ],
      "metadata": {
        "id": "XvD6vJChkjev"
      }
    },
    {
      "cell_type": "code",
      "source": [
        "import numpy as np\n",
        "\n",
        "x = np.array([ 3.8058516 ,  4.19437519,  1.37709166,  0.77009889,  5.20968912,\n",
        "        0.65358179,  3.9701773 ,  2.07495512,  3.02571317,  3.1321825 ,\n",
        "        3.10005197,  4.94755324,  2.26160675,  0.59817735,  1.19183984,\n",
        "        1.37467926, -0.61701765,  5.01024433,  3.13300185,  5.2957513 ,\n",
        "        5.49070323, -1.13532482, -0.34934039,  5.72120588,  1.23276086,\n",
        "        4.33202401,  4.00250539, -0.40665993,  1.05709082,  3.68821387,\n",
        "        1.12295318,  2.10739471,  0.53197551, -0.27389039,  1.48139076,\n",
        "        0.70014346,  2.31649553,  2.44322569,  3.86141784,  2.04558533,\n",
        "        2.98230541,  3.69456416,  2.35192256,  0.11488102,  1.24948211,\n",
        "        2.34006925,  1.45962495, -0.09042347, -0.05130358,  1.15963357,\n",
        "        0.56871108,  2.70715761,  2.47673624,  1.70400014,  1.60709535,\n",
        "       -0.40534576,  3.07910114,  0.80967033,  5.04007949,  0.11755631,\n",
        "        1.427098  , -0.07170736,  5.11381387,  3.54324208,  4.39654794,\n",
        "        0.10687046,  2.89288521,  4.23476606,  1.54499074,  2.68598353,\n",
        "       -1.02087514,  1.9960533 ,  5.24364406,  3.2185187 , -0.38242978,\n",
        "        3.49462381,  1.06077727, -0.02623431,  3.92295454,  1.48746264,\n",
        "        2.74412523, -0.29060423,  3.915251  ,  3.13072888,  3.78471126,\n",
        "       -0.26904523,  0.66725871,  2.75931047,  2.09460576,  1.15288733,\n",
        "        3.08004069,  2.51581013,  1.88470954,  3.18040196,  0.85962888,\n",
        "       -0.2126045 ,  3.2505909 ,  2.7800464 ,  1.41144019,  2.71715232])"
      ],
      "metadata": {
        "id": "Jk8my-kjw1ZH"
      },
      "execution_count": 1,
      "outputs": []
    },
    {
      "cell_type": "markdown",
      "source": [
        "es una muestra de una distribución coseno:\n",
        "$$f(x)=C\\frac{1}{2\\pi}(1+\\cos(x/a-b))$$\n",
        "para $$-\\pi < x/a-b <\\pi$$ y donde C es una constante de normalización.\n",
        "\n",
        "\"a\" se conoce como la escala y \"b\" como la localización.\n",
        "\n",
        "Estima los parámetros \"a\" y \"b\" a partir de los datos y da un intervalo de confianza para ellos del 95%."
      ],
      "metadata": {
        "id": "EDn5cr8nw-hD"
      }
    },
    {
      "cell_type": "markdown",
      "source": [
        "#**Solución**"
      ],
      "metadata": {
        "id": "gDlw6m1Jnq5S"
      }
    },
    {
      "cell_type": "markdown",
      "source": [
        "Veamos que la función stats.cosine, considera la función de densidad como: \n",
        "$$f(x)=C\\frac{1}{2\\pi}(1+\\cos(\\frac{x-B}{a}))$$\n",
        "Esto se puede ver en https://docs.scipy.org/doc/scipy/reference/generated/scipy.stats.cosine.html\n",
        "\n",
        "Por lo que consideremos la función de esta forma, y estimemos los parametros, esto podemos regresarlo a la función planteada en el problema mediante el cambio de variable $B=ba$\n",
        "\n",
        "Primero veamos que el dominio de la función es $$-\\pi < (x-B)/a <\\pi $$\n",
        "    \n",
        "de esta forma: $$B-a\\pi < x < B+a\\pi$$\n",
        "\n",
        "Ahora veamos que $f(x)$ se trata de una función de densidad de probabilidad, así, se tiene que cumplir que \n",
        "\n",
        "$$\\int_{B-a\\pi}^{ B+a\\pi}f(x)dx=1$$\n",
        "\n",
        "Por lo que:\n",
        "\n",
        "\\begin{equation}\n",
        "  \\begin{split}\n",
        "    1 & = \\int_{B-a\\pi}^{ B+a\\pi}f(x)dx\\\\\n",
        "    & = \\int_{B-a\\pi}^{B+a\\pi}C\\frac{1}{2\\pi}(1+cos(\\frac{x-B}{a}))dx \\\\\n",
        "    & = Ca \n",
        "  \\end{split}\n",
        "\\end{equation}\n",
        "\n",
        "De esta forma $C= \\frac{1}{a}$\n",
        "\n",
        "Así, nos queda la función de probabilidad :\n",
        "\n",
        "$$f(x)=\\frac{1}{2a\\pi}(1+\\cos(\\frac{x-B}{a}))$$\n",
        "\n",
        "Calculemos su esperanza: \n",
        "\n",
        "\\begin{equation}\n",
        "  \\begin{split}\n",
        "    E[X] & = \\int_{B-a\\pi}^{ B+a\\pi}xf(x)dx\\\\\n",
        "    & = \\int_{B-a\\pi}^{B+a\\pi}\\frac{x}{2a\\pi}(1+cos(\\frac{x-B}{a}))dx \\\\\n",
        "    & = B\n",
        "  \\end{split}\n",
        "\\end{equation}\n",
        "\n",
        "Ahora calculemos su segundo momento y seguido de esto su varianza: \n",
        "\n",
        "\\begin{equation}\n",
        "  \\begin{split}\n",
        "    E[X^2] & = \\int_{B-a\\pi}^{ B+a\\pi}x^2f(x)dx\\\\\n",
        "    & = \\int_{B-a\\pi}^{B+a\\pi}\\frac{x^2}{2a\\pi}(1+cos(\\frac{x-B}{a}))dx \\\\\n",
        "    & = \\frac{(\\pi^2-6)a^2+3B^2}{3}\n",
        "  \\end{split}\n",
        "\\end{equation}\n",
        "\n",
        "\\begin{equation}\n",
        "  \\begin{split}\n",
        "    Var[X^2] & = E[X^2]-E[X]^2 \\\\\n",
        "    & = \\frac{(\\pi^2-6)a^2+3B^2}{3} - B^2 \\\\\n",
        "    & = \\frac{(\\pi^2-6)a^2}{3}\n",
        "  \\end{split}\n",
        "\\end{equation}\n",
        "\n",
        "Estimando la media y la varianza con el promedio y la varianza insesgada, tenemos: \n",
        "\n",
        "\\begin{cases}\n",
        "  B = E[X]= \\overline{X} \\\\\n",
        "  \\frac{(\\pi^2-6)a^2}{3} = Var[X]=s^2\n",
        "\\end{cases}\n",
        "\n",
        "así, podemos estimar los valores de a y B, como sigue: \n",
        "\n",
        "\n",
        "\\begin{cases}\n",
        "  B = \\overline{X} \\\\\n",
        "  a = \\sqrt{\\frac{3s^2}{\\pi^2-6}}\n",
        "\\end{cases}\n",
        "\n",
        "entonces: "
      ],
      "metadata": {
        "id": "s8VzFjh9lkFR"
      }
    },
    {
      "cell_type": "code",
      "source": [
        "B = x.mean()\n",
        "a =np.sqrt((3*x.var())/(np.pi*np.pi-6))\n",
        "\n",
        "print('a=', a)\n",
        "print('B=',B)"
      ],
      "metadata": {
        "colab": {
          "base_uri": "https://localhost:8080/"
        },
        "id": "381JRofS-aq5",
        "outputId": "51f4864e-7c4b-4e1c-ec98-944847b8b902"
      },
      "execution_count": 2,
      "outputs": [
        {
          "output_type": "stream",
          "name": "stdout",
          "text": [
            "a= 1.4967780099710417\n",
            "B= 2.1342042433999997\n"
          ]
        }
      ]
    },
    {
      "cell_type": "markdown",
      "source": [
        "Por lo que tenemos que: \n",
        "\n",
        "$$a = 1.496778 \\text{ y } B=2.1342$$\n",
        "\n",
        "Comparemos la función de acumulación de una distribucion coseno (con los parametros encontrados a y B), con la acumulación de nuestros datos "
      ],
      "metadata": {
        "id": "EiM0nKcfL091"
      }
    },
    {
      "cell_type": "code",
      "source": [
        "from scipy import stats\n",
        "import matplotlib.pyplot as plt\n",
        "\n",
        "x_ord=np.sort(x)\n",
        "acumulada= np.linspace(0,1,len(x))\n",
        "\n",
        "x_1 = np.linspace(stats.cosine(B,a).ppf(0.01),\n",
        "                  stats.cosine(B,a).ppf(0.99), 10000)\n",
        "fda_cosine=stats.cosine.cdf(x_1, loc=B, scale=a)\n",
        "\n",
        "plt.plot(x_ord,acumulada)\n",
        "plt.plot(x_1,fda_cosine)\n",
        "plt.show()"
      ],
      "metadata": {
        "colab": {
          "base_uri": "https://localhost:8080/",
          "height": 265
        },
        "id": "edrPtqD3_N6x",
        "outputId": "a528b1ed-bf59-46ec-c930-91ed9b950314"
      },
      "execution_count": 3,
      "outputs": [
        {
          "output_type": "display_data",
          "data": {
            "text/plain": [
              "<Figure size 432x288 with 1 Axes>"
            ],
            "image/png": "[encoded data removed]"
          },
          "metadata": {
            "needs_background": "light"
          }
        }
      ]
    },
    {
      "cell_type": "markdown",
      "source": [
        "Vemos que las gráficas son muy parecidas. \n",
        "\n",
        "Ahora, encontremos sus intervalos de confianza del 95 % de cada uno. \n",
        "\n",
        "Sabemos que el intervalo de confianza de la media y la varianza son \n",
        "$$(\\overline{X}-z_{\\alpha/2}\\frac{s}{\\sqrt{n}},\\overline{X}+z_{\\alpha/\n",
        "2}\\frac{s}{\\sqrt{n}}) \\text{ y } (\\frac{(n-1)s^2}{\\chi^2_{a/2}},\\frac{(n-1)s^2}{\\chi^2_{1-a/2}})$$\n",
        "\n",
        "respectivamente. \n",
        "\n",
        "Como $\\mu=B$ y $\\sigma^2=\\frac{(\\pi^2-6)a^2}{3}$, podemos tomar los intervalos de confianza de $a$ y $B$ como \n",
        "\n",
        "$$(\\overline{X}-z_{\\alpha/2}\\frac{s}{\\sqrt{n}},\\overline{X}+z_{\\alpha/\n",
        "2}\\frac{s}{\\sqrt{n}}) \\text{ y } (\\sqrt{\\frac{3(n-1)s^2}{(\\pi^2-6)\\chi^2_{a/2}}},\\sqrt{\\frac{3(n-1)s^2}{(\\pi^2-6)\\chi^2_{1-a/2}}})$$\n",
        "\n",
        "respectivamente, así, tenemos:"
      ],
      "metadata": {
        "id": "iNRJtGPrNEil"
      }
    },
    {
      "cell_type": "code",
      "source": [
        "z=stats.norm.ppf(1-0.025)\n",
        "\n",
        "med_inf=x.mean()-z*np.sqrt(x.var()/len(x))\n",
        "med_sup=x.mean()+z*np.sqrt(x.var()/len(x))\n",
        "\n",
        "chi=stats.chi2.ppf(1-0.025,len(x)-1)\n",
        "var_inf=np.sqrt(3*(len(x)-1)*x.var()/((np.pi*np.pi-6)*chi))\n",
        "\n",
        "chi=stats.chi2.ppf(0.025,len(x)-1)\n",
        "var_sup=np.sqrt(3*(len(x)-1)*x.var()/((np.pi*np.pi-6)*chi))\n",
        "\n",
        "print(\"El intervalo de confianza de B del 95% es:\")\n",
        "print('(',med_inf,med_sup,')\\n')\n",
        "\n",
        "print(\"El intervalo de confianza de a del 95% es:\")\n",
        "print('(',var_inf,var_sup,')')"
      ],
      "metadata": {
        "colab": {
          "base_uri": "https://localhost:8080/"
        },
        "id": "zNKtPHtXfnif",
        "outputId": "d3c9fb0a-8744-40da-828e-f0bfd83a4e65"
      },
      "execution_count": 4,
      "outputs": [
        {
          "output_type": "stream",
          "name": "stdout",
          "text": [
            "El intervalo de confianza de B del 95% es:\n",
            "( 1.801024843303938 2.467383643496061 )\n",
            "\n",
            "El intervalo de confianza de a del 95% es:\n",
            "( 1.3141813388045576 1.7387699768524847 )\n"
          ]
        }
      ]
    },
    {
      "cell_type": "markdown",
      "source": [
        "# Problema 2:\n",
        "\n",
        "Con la misma secuencia de datos del problema anterior x. I**magína que no conoces la distribución de donde proviene la muestra**. Estima el primer momento de la distribución $\\mu=\\bar{x}$ (promedio) y enstima el intervalo de confianza del 95%. "
      ],
      "metadata": {
        "id": "ZzNyWcN2xFnH"
      }
    },
    {
      "cell_type": "markdown",
      "source": [
        "# **Solución**"
      ],
      "metadata": {
        "id": "I0xoay7Fobwx"
      }
    },
    {
      "cell_type": "code",
      "source": [
        "media = x.mean()\n",
        "print('La estimación del primer momento es: ', media)"
      ],
      "metadata": {
        "colab": {
          "base_uri": "https://localhost:8080/"
        },
        "id": "Oh5NIg5Ap8AT",
        "outputId": "cfc7d86f-6846-4ab5-ccb7-5d6c5685d48e"
      },
      "execution_count": 5,
      "outputs": [
        {
          "output_type": "stream",
          "name": "stdout",
          "text": [
            "La estimación del primer momento es:  2.1342042433999997\n"
          ]
        }
      ]
    },
    {
      "cell_type": "markdown",
      "source": [
        "Cuando no conocemos la distribución de la población, en caso de tener una muestra grande $(n>30)$, podemos utilizar el teorema del limite central para obtener un intervalo de confianza para la media, y esta va a ser \n",
        "\n",
        "$$(\\overline{X}-z_{\\alpha/2}\\frac{s}{\\sqrt{n}},\\overline{X}+z_{\\alpha/\n",
        "2}\\frac{s}{\\sqrt{n}})$$\n",
        "\n",
        "Por lo que: "
      ],
      "metadata": {
        "id": "yQ5dXAGnqnbL"
      }
    },
    {
      "cell_type": "code",
      "source": [
        "z=stats.norm.ppf(1-0.025)\n",
        "\n",
        "med_inf=x.mean()-z*np.sqrt(x.var()/len(x))\n",
        "med_sup=x.mean()+z*np.sqrt(x.var()/len(x))\n",
        "\n",
        "print(\"El intervalo de confianza de la media mu del 95% es:\")\n",
        "print('(',med_inf,med_sup,')\\n')"
      ],
      "metadata": {
        "colab": {
          "base_uri": "https://localhost:8080/"
        },
        "id": "Hgcgwy2lrWIh",
        "outputId": "26fa6a37-0346-4b18-b48f-24ff247a758d"
      },
      "execution_count": 6,
      "outputs": [
        {
          "output_type": "stream",
          "name": "stdout",
          "text": [
            "El intervalo de confianza de la media mu del 95% es:\n",
            "( 1.801024843303938 2.467383643496061 )\n",
            "\n"
          ]
        }
      ]
    },
    {
      "cell_type": "markdown",
      "source": [
        "# Problema 3:\n",
        "\n",
        "Supongamos que deseas analizar la diferencia en las calificaciones obtenidas por tres grupos de estudiantes en un examen de matemáticas. Los grupos son: \"Grupo A\", \"Grupo B\" y \"Grupo C\". Tienes los datos de las calificaciones obtenidas por cada estudiante en un archivo CSV llamado \"calificaciones.csv\". \n",
        "\n",
        "Haz una prueba Anova para ver si hay diferencia en calificaciones de los tres grupos."
      ],
      "metadata": {
        "id": "6Sn4j3pGxQIm"
      }
    },
    {
      "cell_type": "markdown",
      "source": [
        "#**Solución**"
      ],
      "metadata": {
        "id": "Pwo6t46c_kyz"
      }
    },
    {
      "cell_type": "code",
      "source": [
        "from google.colab import drive\n",
        "import pandas as pd\n",
        "drive.mount('/content/drive')\n",
        "\n",
        "df=pd.read_csv('/content/drive/MyDrive/calificaciones.csv')\n",
        "df"
      ],
      "metadata": {
        "colab": {
          "base_uri": "https://localhost:8080/",
          "height": 631
        },
        "id": "jw19zy5q-hmb",
        "outputId": "4fa8e93a-1a96-493c-9094-d12ffb96af2f"
      },
      "execution_count": 7,
      "outputs": [
        {
          "output_type": "stream",
          "name": "stdout",
          "text": [
            "Drive already mounted at /content/drive; to attempt to forcibly remount, call drive.mount(\"/content/drive\", force_remount=True).\n"
          ]
        },
        {
          "output_type": "execute_result",
          "data": {
            "text/plain": [
              "      Grupo     Estudiante  Calificación\n",
              "0   Grupo A   Estudiante 1           8.6\n",
              "1   Grupo A   Estudiante 2           7.9\n",
              "2   Grupo A   Estudiante 3           6.5\n",
              "3   Grupo A   Estudiante 4           9.1\n",
              "4   Grupo A   Estudiante 5           8.0\n",
              "5   Grupo A   Estudiante 6           7.2\n",
              "6   Grupo B   Estudiante 7           6.9\n",
              "7   Grupo B   Estudiante 8           7.4\n",
              "8   Grupo B   Estudiante 9           8.2\n",
              "9   Grupo B  Estudiante 10           7.8\n",
              "10  Grupo B  Estudiante 11           6.7\n",
              "11  Grupo B  Estudiante 12           8.3\n",
              "12  Grupo C  Estudiante 13           9.2\n",
              "13  Grupo C  Estudiante 14           8.6\n",
              "14  Grupo C  Estudiante 15           7.7\n",
              "15  Grupo C  Estudiante 16           8.9\n",
              "16  Grupo C  Estudiante 17           9.0\n",
              "17  Grupo C  Estudiante 18           9.5"
            ],
            "text/html": [
              "\n",
              "  <div id=\"df-2fd114ec-32e2-4c0f-a646-9340e2693da9\">\n",
              "    <div class=\"colab-df-container\">\n",
              "      <div>\n",
              "<style scoped>\n",
              "    .dataframe tbody tr th:only-of-type {\n",
              "        vertical-align: middle;\n",
              "    }\n",
              "\n",
              "    .dataframe tbody tr th {\n",
              "        vertical-align: top;\n",
              "    }\n",
              "\n",
              "    .dataframe thead th {\n",
              "        text-align: right;\n",
              "    }\n",
              "</style>\n",
              "<table border=\"1\" class=\"dataframe\">\n",
              "  <thead>\n",
              "    <tr style=\"text-align: right;\">\n",
              "      <th></th>\n",
              "      <th>Grupo</th>\n",
              "      <th>Estudiante</th>\n",
              "      <th>Calificación</th>\n",
              "    </tr>\n",
              "  </thead>\n",
              "  <tbody>\n",
              "    <tr>\n",
              "      <th>0</th>\n",
              "      <td>Grupo A</td>\n",
              "      <td>Estudiante 1</td>\n",
              "      <td>8.6</td>\n",
              "    </tr>\n",
              "    <tr>\n",
              "      <th>1</th>\n",
              "      <td>Grupo A</td>\n",
              "      <td>Estudiante 2</td>\n",
              "      <td>7.9</td>\n",
              "    </tr>\n",
              "    <tr>\n",
              "      <th>2</th>\n",
              "      <td>Grupo A</td>\n",
              "      <td>Estudiante 3</td>\n",
              "      <td>6.5</td>\n",
              "    </tr>\n",
              "    <tr>\n",
              "      <th>3</th>\n",
              "      <td>Grupo A</td>\n",
              "      <td>Estudiante 4</td>\n",
              "      <td>9.1</td>\n",
              "    </tr>\n",
              "    <tr>\n",
              "      <th>4</th>\n",
              "      <td>Grupo A</td>\n",
              "      <td>Estudiante 5</td>\n",
              "      <td>8.0</td>\n",
              "    </tr>\n",
              "    <tr>\n",
              "      <th>5</th>\n",
              "      <td>Grupo A</td>\n",
              "      <td>Estudiante 6</td>\n",
              "      <td>7.2</td>\n",
              "    </tr>\n",
              "    <tr>\n",
              "      <th>6</th>\n",
              "      <td>Grupo B</td>\n",
              "      <td>Estudiante 7</td>\n",
              "      <td>6.9</td>\n",
              "    </tr>\n",
              "    <tr>\n",
              "      <th>7</th>\n",
              "      <td>Grupo B</td>\n",
              "      <td>Estudiante 8</td>\n",
              "      <td>7.4</td>\n",
              "    </tr>\n",
              "    <tr>\n",
              "      <th>8</th>\n",
              "      <td>Grupo B</td>\n",
              "      <td>Estudiante 9</td>\n",
              "      <td>8.2</td>\n",
              "    </tr>\n",
              "    <tr>\n",
              "      <th>9</th>\n",
              "      <td>Grupo B</td>\n",
              "      <td>Estudiante 10</td>\n",
              "      <td>7.8</td>\n",
              "    </tr>\n",
              "    <tr>\n",
              "      <th>10</th>\n",
              "      <td>Grupo B</td>\n",
              "      <td>Estudiante 11</td>\n",
              "      <td>6.7</td>\n",
              "    </tr>\n",
              "    <tr>\n",
              "      <th>11</th>\n",
              "      <td>Grupo B</td>\n",
              "      <td>Estudiante 12</td>\n",
              "      <td>8.3</td>\n",
              "    </tr>\n",
              "    <tr>\n",
              "      <th>12</th>\n",
              "      <td>Grupo C</td>\n",
              "      <td>Estudiante 13</td>\n",
              "      <td>9.2</td>\n",
              "    </tr>\n",
              "    <tr>\n",
              "      <th>13</th>\n",
              "      <td>Grupo C</td>\n",
              "      <td>Estudiante 14</td>\n",
              "      <td>8.6</td>\n",
              "    </tr>\n",
              "    <tr>\n",
              "      <th>14</th>\n",
              "      <td>Grupo C</td>\n",
              "      <td>Estudiante 15</td>\n",
              "      <td>7.7</td>\n",
              "    </tr>\n",
              "    <tr>\n",
              "      <th>15</th>\n",
              "      <td>Grupo C</td>\n",
              "      <td>Estudiante 16</td>\n",
              "      <td>8.9</td>\n",
              "    </tr>\n",
              "    <tr>\n",
              "      <th>16</th>\n",
              "      <td>Grupo C</td>\n",
              "      <td>Estudiante 17</td>\n",
              "      <td>9.0</td>\n",
              "    </tr>\n",
              "    <tr>\n",
              "      <th>17</th>\n",
              "      <td>Grupo C</td>\n",
              "      <td>Estudiante 18</td>\n",
              "      <td>9.5</td>\n",
              "    </tr>\n",
              "  </tbody>\n",
              "</table>\n",
              "</div>\n",
              "      <button class=\"colab-df-convert\" onclick=\"convertToInteractive('df-2fd114ec-32e2-4c0f-a646-9340e2693da9')\"\n",
              "              title=\"Convert this dataframe to an interactive table.\"\n",
              "              style=\"display:none;\">\n",
              "        \n",
              "  <svg xmlns=\"http://www.w3.org/2000/svg\" height=\"24px\"viewBox=\"0 0 24 24\"\n",
              "       width=\"24px\">\n",
              "    <path d=\"M0 0h24v24H0V0z\" fill=\"none\"/>\n",
              "    <path d=\"M18.56 5.44l.94 2.06.94-2.06 2.06-.94-2.06-.94-.94-2.06-.94 2.06-2.06.94zm-11 1L8.5 8.5l.94-2.06 2.06-.94-2.06-.94L8.5 2.5l-.94 2.06-2.06.94zm10 10l.94 2.06.94-2.06 2.06-.94-2.06-.94-.94-2.06-.94 2.06-2.06.94z\"/><path d=\"M17.41 7.96l-1.37-1.37c-.4-.4-.92-.59-1.43-.59-.52 0-1.04.2-1.43.59L10.3 9.45l-7.72 7.72c-.78.78-.78 2.05 0 2.83L4 21.41c.39.39.9.59 1.41.59.51 0 1.02-.2 1.41-.59l7.78-7.78 2.81-2.81c.8-.78.8-2.07 0-2.86zM5.41 20L4 18.59l7.72-7.72 1.47 1.35L5.41 20z\"/>\n",
              "  </svg>\n",
              "      </button>\n",
              "      \n",
              "  <style>\n",
              "    .colab-df-container {\n",
              "      display:flex;\n",
              "      flex-wrap:wrap;\n",
              "      gap: 12px;\n",
              "    }\n",
              "\n",
              "    .colab-df-convert {\n",
              "      background-color: #E8F0FE;\n",
              "      border: none;\n",
              "      border-radius: 50%;\n",
              "      cursor: pointer;\n",
              "      display: none;\n",
              "      fill: #1967D2;\n",
              "      height: 32px;\n",
              "      padding: 0 0 0 0;\n",
              "      width: 32px;\n",
              "    }\n",
              "\n",
              "    .colab-df-convert:hover {\n",
              "      background-color: #E2EBFA;\n",
              "      box-shadow: 0px 1px 2px rgba(60, 64, 67, 0.3), 0px 1px 3px 1px rgba(60, 64, 67, 0.15);\n",
              "      fill: #174EA6;\n",
              "    }\n",
              "\n",
              "    [theme=dark] .colab-df-convert {\n",
              "      background-color: #3B4455;\n",
              "      fill: #D2E3FC;\n",
              "    }\n",
              "\n",
              "    [theme=dark] .colab-df-convert:hover {\n",
              "      background-color: #434B5C;\n",
              "      box-shadow: 0px 1px 3px 1px rgba(0, 0, 0, 0.15);\n",
              "      filter: drop-shadow(0px 1px 2px rgba(0, 0, 0, 0.3));\n",
              "      fill: #FFFFFF;\n",
              "    }\n",
              "  </style>\n",
              "\n",
              "      <script>\n",
              "        const buttonEl =\n",
              "          document.querySelector('#df-2fd114ec-32e2-4c0f-a646-9340e2693da9 button.colab-df-convert');\n",
              "        buttonEl.style.display =\n",
              "          google.colab.kernel.accessAllowed ? 'block' : 'none';\n",
              "\n",
              "        async function convertToInteractive(key) {\n",
              "          const element = document.querySelector('#df-2fd114ec-32e2-4c0f-a646-9340e2693da9');\n",
              "          const dataTable =\n",
              "            await google.colab.kernel.invokeFunction('convertToInteractive',\n",
              "                                                     [key], {});\n",
              "          if (!dataTable) return;\n",
              "\n",
              "          const docLinkHtml = 'Like what you see? Visit the ' +\n",
              "            '<a target=\"_blank\" href=https://colab.research.google.com/notebooks/data_table.ipynb>data table notebook</a>'\n",
              "            + ' to learn more about interactive tables.';\n",
              "          element.innerHTML = '';\n",
              "          dataTable['output_type'] = 'display_data';\n",
              "          await google.colab.output.renderOutput(dataTable, element);\n",
              "          const docLink = document.createElement('div');\n",
              "          docLink.innerHTML = docLinkHtml;\n",
              "          element.appendChild(docLink);\n",
              "        }\n",
              "      </script>\n",
              "    </div>\n",
              "  </div>\n",
              "  "
            ]
          },
          "metadata": {},
          "execution_count": 7
        }
      ]
    },
    {
      "cell_type": "code",
      "source": [
        "from scipy.stats import f_oneway\n",
        "\n",
        "a=df[df['Grupo']=='Grupo A']['Calificación'].to_list()\n",
        "b=df[df['Grupo']=='Grupo B']['Calificación'].to_list()\n",
        "c=df[df['Grupo']=='Grupo C']['Calificación'].to_list()\n",
        "\n",
        "est,p_val=f_oneway(a,b,c)\n",
        "\n",
        "print('Estadistico de prueba:',est)\n",
        "print('Valor p:', p_val)"
      ],
      "metadata": {
        "colab": {
          "base_uri": "https://localhost:8080/"
        },
        "id": "eTXajWwEAMLV",
        "outputId": "5a8de0e3-24da-4ece-e3bd-5da69ab52f18"
      },
      "execution_count": 8,
      "outputs": [
        {
          "output_type": "stream",
          "name": "stdout",
          "text": [
            "Estadistico de prueba: 4.537127265640226\n",
            "Valor p: 0.02877650747111931\n"
          ]
        }
      ]
    },
    {
      "cell_type": "markdown",
      "source": [
        "Si consideramos una prueba de significancia de 0.05, vemos que el valor p es menor que este valor, así, rechazamos la hipotesis nula, es decir, las medias poblacionales no son iguales con un nivel de significancia de 0.05"
      ],
      "metadata": {
        "id": "I6OZjbnaNS0l"
      }
    },
    {
      "cell_type": "markdown",
      "source": [
        "# Problema 4:\n",
        "\n",
        "Supongamos que tienes dos grupos de datos: \"Grupo A\" y \"Grupo B\", y deseas determinar si hay una diferencia significativa entre las medianas de ambos grupos. No sabes si los datos provienene de distribución normal.\n",
        "\n",
        "a) Has una prueba gráfica y una prueba de hipótsis para saber si los datos tienen una distribución normal para ambos grupos.\n",
        "\n",
        "b) Emplea estadística no paramétrica para probar si hay diferencia significativa en la mediana entre ambos grupos.\n",
        "\n",
        "Los datos están en el archivo datos.csv"
      ],
      "metadata": {
        "id": "mZ1Y6Jj3xSai"
      }
    },
    {
      "cell_type": "markdown",
      "source": [
        "# **Solución a)**"
      ],
      "metadata": {
        "id": "TDFv5XpcS82M"
      }
    },
    {
      "cell_type": "code",
      "source": [
        "df1=pd.read_csv('/content/drive/MyDrive/datos.csv')\n",
        "df1"
      ],
      "metadata": {
        "colab": {
          "base_uri": "https://localhost:8080/",
          "height": 426
        },
        "id": "tldHJzCSS-3z",
        "outputId": "67a93fd9-ff98-471d-8982-3ed1f54b7151"
      },
      "execution_count": 9,
      "outputs": [
        {
          "output_type": "execute_result",
          "data": {
            "text/plain": [
              "      Grupo  Datos\n",
              "0   Grupo A    5.8\n",
              "1   Grupo A    3.1\n",
              "2   Grupo A    7.2\n",
              "3   Grupo A    2.6\n",
              "4   Grupo A    6.7\n",
              "5   Grupo A    4.5\n",
              "6   Grupo B    1.9\n",
              "7   Grupo B    8.5\n",
              "8   Grupo B    4.3\n",
              "9   Grupo B    6.8\n",
              "10  Grupo B    2.1\n",
              "11  Grupo B    7.4"
            ],
            "text/html": [
              "\n",
              "  <div id=\"df-eb4661ab-04e9-4189-bd50-bac7775f4337\">\n",
              "    <div class=\"colab-df-container\">\n",
              "      <div>\n",
              "<style scoped>\n",
              "    .dataframe tbody tr th:only-of-type {\n",
              "        vertical-align: middle;\n",
              "    }\n",
              "\n",
              "    .dataframe tbody tr th {\n",
              "        vertical-align: top;\n",
              "    }\n",
              "\n",
              "    .dataframe thead th {\n",
              "        text-align: right;\n",
              "    }\n",
              "</style>\n",
              "<table border=\"1\" class=\"dataframe\">\n",
              "  <thead>\n",
              "    <tr style=\"text-align: right;\">\n",
              "      <th></th>\n",
              "      <th>Grupo</th>\n",
              "      <th>Datos</th>\n",
              "    </tr>\n",
              "  </thead>\n",
              "  <tbody>\n",
              "    <tr>\n",
              "      <th>0</th>\n",
              "      <td>Grupo A</td>\n",
              "      <td>5.8</td>\n",
              "    </tr>\n",
              "    <tr>\n",
              "      <th>1</th>\n",
              "      <td>Grupo A</td>\n",
              "      <td>3.1</td>\n",
              "    </tr>\n",
              "    <tr>\n",
              "      <th>2</th>\n",
              "      <td>Grupo A</td>\n",
              "      <td>7.2</td>\n",
              "    </tr>\n",
              "    <tr>\n",
              "      <th>3</th>\n",
              "      <td>Grupo A</td>\n",
              "      <td>2.6</td>\n",
              "    </tr>\n",
              "    <tr>\n",
              "      <th>4</th>\n",
              "      <td>Grupo A</td>\n",
              "      <td>6.7</td>\n",
              "    </tr>\n",
              "    <tr>\n",
              "      <th>5</th>\n",
              "      <td>Grupo A</td>\n",
              "      <td>4.5</td>\n",
              "    </tr>\n",
              "    <tr>\n",
              "      <th>6</th>\n",
              "      <td>Grupo B</td>\n",
              "      <td>1.9</td>\n",
              "    </tr>\n",
              "    <tr>\n",
              "      <th>7</th>\n",
              "      <td>Grupo B</td>\n",
              "      <td>8.5</td>\n",
              "    </tr>\n",
              "    <tr>\n",
              "      <th>8</th>\n",
              "      <td>Grupo B</td>\n",
              "      <td>4.3</td>\n",
              "    </tr>\n",
              "    <tr>\n",
              "      <th>9</th>\n",
              "      <td>Grupo B</td>\n",
              "      <td>6.8</td>\n",
              "    </tr>\n",
              "    <tr>\n",
              "      <th>10</th>\n",
              "      <td>Grupo B</td>\n",
              "      <td>2.1</td>\n",
              "    </tr>\n",
              "    <tr>\n",
              "      <th>11</th>\n",
              "      <td>Grupo B</td>\n",
              "      <td>7.4</td>\n",
              "    </tr>\n",
              "  </tbody>\n",
              "</table>\n",
              "</div>\n",
              "      <button class=\"colab-df-convert\" onclick=\"convertToInteractive('df-eb4661ab-04e9-4189-bd50-bac7775f4337')\"\n",
              "              title=\"Convert this dataframe to an interactive table.\"\n",
              "              style=\"display:none;\">\n",
              "        \n",
              "  <svg xmlns=\"http://www.w3.org/2000/svg\" height=\"24px\"viewBox=\"0 0 24 24\"\n",
              "       width=\"24px\">\n",
              "    <path d=\"M0 0h24v24H0V0z\" fill=\"none\"/>\n",
              "    <path d=\"M18.56 5.44l.94 2.06.94-2.06 2.06-.94-2.06-.94-.94-2.06-.94 2.06-2.06.94zm-11 1L8.5 8.5l.94-2.06 2.06-.94-2.06-.94L8.5 2.5l-.94 2.06-2.06.94zm10 10l.94 2.06.94-2.06 2.06-.94-2.06-.94-.94-2.06-.94 2.06-2.06.94z\"/><path d=\"M17.41 7.96l-1.37-1.37c-.4-.4-.92-.59-1.43-.59-.52 0-1.04.2-1.43.59L10.3 9.45l-7.72 7.72c-.78.78-.78 2.05 0 2.83L4 21.41c.39.39.9.59 1.41.59.51 0 1.02-.2 1.41-.59l7.78-7.78 2.81-2.81c.8-.78.8-2.07 0-2.86zM5.41 20L4 18.59l7.72-7.72 1.47 1.35L5.41 20z\"/>\n",
              "  </svg>\n",
              "      </button>\n",
              "      \n",
              "  <style>\n",
              "    .colab-df-container {\n",
              "      display:flex;\n",
              "      flex-wrap:wrap;\n",
              "      gap: 12px;\n",
              "    }\n",
              "\n",
              "    .colab-df-convert {\n",
              "      background-color: #E8F0FE;\n",
              "      border: none;\n",
              "      border-radius: 50%;\n",
              "      cursor: pointer;\n",
              "      display: none;\n",
              "      fill: #1967D2;\n",
              "      height: 32px;\n",
              "      padding: 0 0 0 0;\n",
              "      width: 32px;\n",
              "    }\n",
              "\n",
              "    .colab-df-convert:hover {\n",
              "      background-color: #E2EBFA;\n",
              "      box-shadow: 0px 1px 2px rgba(60, 64, 67, 0.3), 0px 1px 3px 1px rgba(60, 64, 67, 0.15);\n",
              "      fill: #174EA6;\n",
              "    }\n",
              "\n",
              "    [theme=dark] .colab-df-convert {\n",
              "      background-color: #3B4455;\n",
              "      fill: #D2E3FC;\n",
              "    }\n",
              "\n",
              "    [theme=dark] .colab-df-convert:hover {\n",
              "      background-color: #434B5C;\n",
              "      box-shadow: 0px 1px 3px 1px rgba(0, 0, 0, 0.15);\n",
              "      filter: drop-shadow(0px 1px 2px rgba(0, 0, 0, 0.3));\n",
              "      fill: #FFFFFF;\n",
              "    }\n",
              "  </style>\n",
              "\n",
              "      <script>\n",
              "        const buttonEl =\n",
              "          document.querySelector('#df-eb4661ab-04e9-4189-bd50-bac7775f4337 button.colab-df-convert');\n",
              "        buttonEl.style.display =\n",
              "          google.colab.kernel.accessAllowed ? 'block' : 'none';\n",
              "\n",
              "        async function convertToInteractive(key) {\n",
              "          const element = document.querySelector('#df-eb4661ab-04e9-4189-bd50-bac7775f4337');\n",
              "          const dataTable =\n",
              "            await google.colab.kernel.invokeFunction('convertToInteractive',\n",
              "                                                     [key], {});\n",
              "          if (!dataTable) return;\n",
              "\n",
              "          const docLinkHtml = 'Like what you see? Visit the ' +\n",
              "            '<a target=\"_blank\" href=https://colab.research.google.com/notebooks/data_table.ipynb>data table notebook</a>'\n",
              "            + ' to learn more about interactive tables.';\n",
              "          element.innerHTML = '';\n",
              "          dataTable['output_type'] = 'display_data';\n",
              "          await google.colab.output.renderOutput(dataTable, element);\n",
              "          const docLink = document.createElement('div');\n",
              "          docLink.innerHTML = docLinkHtml;\n",
              "          element.appendChild(docLink);\n",
              "        }\n",
              "      </script>\n",
              "    </div>\n",
              "  </div>\n",
              "  "
            ]
          },
          "metadata": {},
          "execution_count": 9
        }
      ]
    },
    {
      "cell_type": "code",
      "source": [
        "a=df1[df1['Grupo']=='Grupo A']['Datos'].to_list()\n",
        "b=df1[df1['Grupo']=='Grupo B']['Datos'].to_list()"
      ],
      "metadata": {
        "id": "g6hB4m6cTGAT"
      },
      "execution_count": 10,
      "outputs": []
    },
    {
      "cell_type": "markdown",
      "source": [
        "### Prueba grafica de normalidad"
      ],
      "metadata": {
        "id": "obwKbrfbBPQ5"
      }
    },
    {
      "cell_type": "code",
      "source": [
        "import statsmodels.api as sm\n",
        "\n",
        "def grafico(a,b):\n",
        "  fig, ax = plt.subplots(figsize=(7,4))\n",
        "  sm.qqplot(np.array(a), fit   = True, line  = 'q', ax    = ax)\n",
        "  ax.set_title('Gráfico Q-Qs del '+b, fontsize = 10,\n",
        "             fontweight = \"bold\")\n",
        "  ax.tick_params(labelsize = 7)\n",
        "\n",
        "grafico(a,'Grupo A')\n",
        "grafico(b,'Grupo B')"
      ],
      "metadata": {
        "colab": {
          "base_uri": "https://localhost:8080/",
          "height": 563
        },
        "id": "_Nzy2JZIyOUt",
        "outputId": "30875934-0407-4c5f-e3c7-52b48a2742b4"
      },
      "execution_count": 11,
      "outputs": [
        {
          "output_type": "display_data",
          "data": {
            "text/plain": [
              "<Figure size 504x288 with 1 Axes>"
            ],
            "image/png": "[encoded data removed]"
          },
          "metadata": {
            "needs_background": "light"
          }
        },
        {
          "output_type": "display_data",
          "data": {
            "text/plain": [
              "<Figure size 504x288 with 1 Axes>"
            ],
            "image/png": "[encoded data removed]"
          },
          "metadata": {
            "needs_background": "light"
          }
        }
      ]
    },
    {
      "cell_type": "markdown",
      "source": [
        "Prueba de hipotesis, para saber si provienen de una distribución normal"
      ],
      "metadata": {
        "id": "I56De8N7BXvw"
      }
    },
    {
      "cell_type": "code",
      "source": [
        "shapiro_test_a=stats.shapiro(a)\n",
        "shapiro_test_b=stats.shapiro(b)\n",
        "\n",
        "print('Valor p de prueba de Grupo A: ',shapiro_test_a[1])\n",
        "print('Valor p de prueba de Grupo B: ',shapiro_test_b[1])"
      ],
      "metadata": {
        "colab": {
          "base_uri": "https://localhost:8080/"
        },
        "id": "SicuggjIztrt",
        "outputId": "e75e3853-f077-4ba9-dd07-00da3f855782"
      },
      "execution_count": 12,
      "outputs": [
        {
          "output_type": "stream",
          "name": "stdout",
          "text": [
            "Valor p de prueba de Grupo A:  0.555199146270752\n",
            "Valor p de prueba de Grupo B:  0.34388166666030884\n"
          ]
        }
      ]
    },
    {
      "cell_type": "markdown",
      "source": [
        "Vemos que el valor p para ambos grupos, es considerablemente alto, por lo que aceptamos la hipotesis nula, acerca de que las muestras vienen de una distribución normal. "
      ],
      "metadata": {
        "id": "MPpBFc4p-5cS"
      }
    },
    {
      "cell_type": "markdown",
      "source": [
        "# **Solución b)**\n",
        "\n",
        "Utilizaremos la prueba de Wilcoxon, para comparar si las dos muestras que tenemos tienen medianas iguales"
      ],
      "metadata": {
        "id": "0fGE5nXM_N76"
      }
    },
    {
      "cell_type": "code",
      "source": [
        "from scipy.stats import wilcoxon\n",
        "\n",
        "wilcoxon(a,b)"
      ],
      "metadata": {
        "colab": {
          "base_uri": "https://localhost:8080/"
        },
        "id": "CX8487h45mgD",
        "outputId": "d719ca06-a57a-40af-b7a3-930a05b4a5eb"
      },
      "execution_count": 13,
      "outputs": [
        {
          "output_type": "execute_result",
          "data": {
            "text/plain": [
              "WilcoxonResult(statistic=9.5, pvalue=0.84375)"
            ]
          },
          "metadata": {},
          "execution_count": 13
        }
      ]
    },
    {
      "cell_type": "markdown",
      "source": [
        "Vemos que el valor p es muy cercano a 1, por lo que podemos aceptar la hipotesis nula, es decir, las medianas de las muestras no tendran una diferencia significativa.  "
      ],
      "metadata": {
        "id": "VQxToj56B1nm"
      }
    }
  ]
}