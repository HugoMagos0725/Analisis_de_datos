{
  "nbformat": 4,
  "nbformat_minor": 0,
  "metadata": {
    "colab": {
      "provenance": [],
      "authorship_tag": "ABX9TyOC9rGeefuMdIWXbn5UW1Sd",
      "include_colab_link": true
    },
    "kernelspec": {
      "name": "python3",
      "display_name": "Python 3"
    },
    "language_info": {
      "name": "python"
    }
  },
  "cells": [
    {
      "cell_type": "markdown",
      "metadata": {
        "id": "view-in-github",
        "colab_type": "text"
      },
      "source": [
        "<a href=\"https://colab.research.google.com/github/HugoMagos0725/Analisis_de_datos/blob/main/Tarea_2_Inferencia_Estadistica.ipynb\" target=\"_parent\"><img src=\"https://colab.research.google.com/assets/colab-badge.svg\" alt=\"Open In Colab\"/></a>"
      ]
    },
    {
      "cell_type": "markdown",
      "source": [
        "**FCFM-BUAP, 2023**"
      ],
      "metadata": {
        "id": "p6Y5IdOcwsqj"
      }
    },
    {
      "cell_type": "markdown",
      "source": [
        "## Proyecto: Inferencia Estadistica\n",
        "Nombre: Hugo Cuautle Magos\n",
        "\n",
        "Matricula: 201847053\n",
        "\n",
        "Materia: Análisis de datos"
      ],
      "metadata": {
        "id": "j1sWWFYilK_V"
      }
    },
    {
      "cell_type": "markdown",
      "source": [
        "# Problema 1:\n",
        "\n",
        "Los siguientes datos\n"
      ],
      "metadata": {
        "id": "XvD6vJChkjev"
      }
    },
    {
      "cell_type": "code",
      "source": [
        "import numpy as np\n",
        "\n",
        "x = np.array([ 3.8058516 ,  4.19437519,  1.37709166,  0.77009889,  5.20968912,\n",
        "        0.65358179,  3.9701773 ,  2.07495512,  3.02571317,  3.1321825 ,\n",
        "        3.10005197,  4.94755324,  2.26160675,  0.59817735,  1.19183984,\n",
        "        1.37467926, -0.61701765,  5.01024433,  3.13300185,  5.2957513 ,\n",
        "        5.49070323, -1.13532482, -0.34934039,  5.72120588,  1.23276086,\n",
        "        4.33202401,  4.00250539, -0.40665993,  1.05709082,  3.68821387,\n",
        "        1.12295318,  2.10739471,  0.53197551, -0.27389039,  1.48139076,\n",
        "        0.70014346,  2.31649553,  2.44322569,  3.86141784,  2.04558533,\n",
        "        2.98230541,  3.69456416,  2.35192256,  0.11488102,  1.24948211,\n",
        "        2.34006925,  1.45962495, -0.09042347, -0.05130358,  1.15963357,\n",
        "        0.56871108,  2.70715761,  2.47673624,  1.70400014,  1.60709535,\n",
        "       -0.40534576,  3.07910114,  0.80967033,  5.04007949,  0.11755631,\n",
        "        1.427098  , -0.07170736,  5.11381387,  3.54324208,  4.39654794,\n",
        "        0.10687046,  2.89288521,  4.23476606,  1.54499074,  2.68598353,\n",
        "       -1.02087514,  1.9960533 ,  5.24364406,  3.2185187 , -0.38242978,\n",
        "        3.49462381,  1.06077727, -0.02623431,  3.92295454,  1.48746264,\n",
        "        2.74412523, -0.29060423,  3.915251  ,  3.13072888,  3.78471126,\n",
        "       -0.26904523,  0.66725871,  2.75931047,  2.09460576,  1.15288733,\n",
        "        3.08004069,  2.51581013,  1.88470954,  3.18040196,  0.85962888,\n",
        "       -0.2126045 ,  3.2505909 ,  2.7800464 ,  1.41144019,  2.71715232])"
      ],
      "metadata": {
        "id": "Jk8my-kjw1ZH"
      },
      "execution_count": 1,
      "outputs": []
    },
    {
      "cell_type": "markdown",
      "source": [
        "es una muestra de una distribución coseno:\n",
        "$$f(x)=C\\frac{1}{2\\pi}(1+\\cos(x/a-b))$$\n",
        "para $$-\\pi < x/a-b <\\pi$$ y donde C es una constante de normalización.\n",
        "\n",
        "\"a\" se conoce como la escala y \"b\" como la localización.\n",
        "\n",
        "Estima los parámetros \"a\" y \"b\" a partir de los datos y da un intervalo de confianza para ellos del 95%."
      ],
      "metadata": {
        "id": "EDn5cr8nw-hD"
      }
    },
    {
      "cell_type": "markdown",
      "source": [
        "#**Solución**"
      ],
      "metadata": {
        "id": "gDlw6m1Jnq5S"
      }
    },
    {
      "cell_type": "markdown",
      "source": [
        "Veamos que la función stats.cosine, considera la función de densidad como: \n",
        "$$f(x)=C\\frac{1}{2\\pi}(1+\\cos(\\frac{x-B}{a}))$$\n",
        "Esto se puede ver en https://docs.scipy.org/doc/scipy/reference/generated/scipy.stats.cosine.html\n",
        "\n",
        "Por lo que consideremos la función de esta forma, y estimemos los parametros, esto podemos regresarlo a la función planteada en el problema mediante el cambio de variable $B=ba$\n",
        "\n",
        "Primero veamos que el dominio de la función es $$-\\pi < (x-B)/a <\\pi $$\n",
        "    \n",
        "de esta forma: $$B-a\\pi < x < B+a\\pi$$\n",
        "\n",
        "Ahora veamos que $f(x)$ se trata de una función de densidad de probabilidad, así, se tiene que cumplir que \n",
        "\n",
        "$$\\int_{B-a\\pi}^{ B+a\\pi}f(x)dx=1$$\n",
        "\n",
        "Por lo que:\n",
        "\n",
        "\\begin{equation}\n",
        "  \\begin{split}\n",
        "    1 & = \\int_{B-a\\pi}^{ B+a\\pi}f(x)dx\\\\\n",
        "    & = \\int_{B-a\\pi}^{B+a\\pi}C\\frac{1}{2\\pi}(1+cos(\\frac{x-B}{a}))dx \\\\\n",
        "    & = Ca \n",
        "  \\end{split}\n",
        "\\end{equation}\n",
        "\n",
        "De esta forma $C= \\frac{1}{a}$\n",
        "\n",
        "Así, nos queda la función de probabilidad :\n",
        "\n",
        "$$f(x)=\\frac{1}{2a\\pi}(1+\\cos(\\frac{x-B}{a}))$$\n",
        "\n",
        "Calculemos su esperanza: \n",
        "\n",
        "\\begin{equation}\n",
        "  \\begin{split}\n",
        "    E[X] & = \\int_{B-a\\pi}^{ B+a\\pi}xf(x)dx\\\\\n",
        "    & = \\int_{B-a\\pi}^{B+a\\pi}\\frac{x}{2a\\pi}(1+cos(\\frac{x-B}{a}))dx \\\\\n",
        "    & = B\n",
        "  \\end{split}\n",
        "\\end{equation}\n",
        "\n",
        "Ahora calculemos su segundo momento y seguido de esto su varianza: \n",
        "\n",
        "\\begin{equation}\n",
        "  \\begin{split}\n",
        "    E[X^2] & = \\int_{B-a\\pi}^{ B+a\\pi}x^2f(x)dx\\\\\n",
        "    & = \\int_{B-a\\pi}^{B+a\\pi}\\frac{x^2}{2a\\pi}(1+cos(\\frac{x-B}{a}))dx \\\\\n",
        "    & = \\frac{(\\pi^2-6)a^2+3B^2}{3}\n",
        "  \\end{split}\n",
        "\\end{equation}\n",
        "\n",
        "\\begin{equation}\n",
        "  \\begin{split}\n",
        "    Var[X^2] & = E[X^2]-E[X]^2 \\\\\n",
        "    & = \\frac{(\\pi^2-6)a^2+3B^2}{3} - B^2 \\\\\n",
        "    & = \\frac{(\\pi^2-6)a^2}{3}\n",
        "  \\end{split}\n",
        "\\end{equation}\n",
        "\n",
        "Estimando la media y la varianza con el promedio y la varianza insesgada, tenemos: \n",
        "\n",
        "\\begin{cases}\n",
        "  B = E[X]= \\overline{X} \\\\\n",
        "  \\frac{(\\pi^2-6)a^2}{3} = Var[X]=s^2\n",
        "\\end{cases}\n",
        "\n",
        "así, podemos estimar los valores de a y B, como sigue: \n",
        "\n",
        "\n",
        "\\begin{cases}\n",
        "  B = \\overline{X} \\\\\n",
        "  a = \\sqrt{\\frac{3s^2}{\\pi^2-6}}\n",
        "\\end{cases}\n",
        "\n",
        "entonces: "
      ],
      "metadata": {
        "id": "s8VzFjh9lkFR"
      }
    },
    {
      "cell_type": "code",
      "source": [
        "B = x.mean()\n",
        "a =np.sqrt((3*x.var())/(np.pi*np.pi-6))\n",
        "\n",
        "print('a=', a)\n",
        "print('B=',B)"
      ],
      "metadata": {
        "colab": {
          "base_uri": "https://localhost:8080/"
        },
        "id": "381JRofS-aq5",
        "outputId": "765b5295-2f09-4209-ea0d-6f60d748588f"
      },
      "execution_count": 2,
      "outputs": [
        {
          "output_type": "stream",
          "name": "stdout",
          "text": [
            "a= 1.4967780099710417\n",
            "B= 2.1342042433999997\n"
          ]
        }
      ]
    },
    {
      "cell_type": "markdown",
      "source": [
        "Por lo que tenemos que: \n",
        "\n",
        "$$a = 1.496778 \\text{ y } B=2.1342$$\n",
        "\n",
        "Comparemos la función de acumulación de una distribucion coseno (con los parametros encontrados a y B), con la acumulación de nuestros datos "
      ],
      "metadata": {
        "id": "EiM0nKcfL091"
      }
    },
    {
      "cell_type": "code",
      "source": [
        "from scipy import stats\n",
        "import matplotlib.pyplot as plt\n",
        "\n",
        "x_ord=np.sort(x)\n",
        "acumulada= np.linspace(0,1,len(x))\n",
        "\n",
        "x_1 = np.linspace(stats.cosine(B,a).ppf(0.01),\n",
        "                  stats.cosine(B,a).ppf(0.99), 10000)\n",
        "fda_cosine=stats.cosine.cdf(x_1, loc=B, scale=a)\n",
        "\n",
        "plt.plot(x_ord,acumulada)\n",
        "plt.plot(x_1,fda_cosine)\n",
        "plt.show()"
      ],
      "metadata": {
        "colab": {
          "base_uri": "https://localhost:8080/",
          "height": 265
        },
        "id": "edrPtqD3_N6x",
        "outputId": "f6b3fa02-52a5-4362-d6e6-7daf9b7e6f64"
      },
      "execution_count": 3,
      "outputs": [
        {
          "output_type": "display_data",
          "data": {
            "text/plain": [
              "<Figure size 432x288 with 1 Axes>"
            ],
            "image/png": "[encoded data removed]"
          },
          "metadata": {
            "needs_background": "light"
          }
        }
      ]
    },
    {
      "cell_type": "markdown",
      "source": [
        "Vemos que las gráficas son muy parecidas. \n",
        "\n",
        "Ahora, encontremos sus intervalos de confianza del 95 % de cada uno. \n",
        "\n",
        "Sabemos que el intervalo de confianza de la media y la varianza son \n",
        "$$(\\overline{X}-z_{\\alpha/2}\\frac{s}{\\sqrt{n}},\\overline{X}+z_{\\alpha/\n",
        "2}\\frac{s}{\\sqrt{n}}) \\text{ y } (\\frac{(n-1)s^2}{\\chi^2_{a/2}},\\frac{(n-1)s^2}{\\chi^2_{1-a/2}})$$\n",
        "\n",
        "respectivamente. \n",
        "\n",
        "Como $\\mu=B$ y $\\sigma^2=\\frac{(\\pi^2-6)a^2}{3}$, podemos tomar los intervalos de confianza de $a$ y $B$ como \n",
        "\n",
        "$$(\\overline{X}-z_{\\alpha/2}\\frac{s}{\\sqrt{n}},\\overline{X}+z_{\\alpha/\n",
        "2}\\frac{s}{\\sqrt{n}}) \\text{ y } (\\sqrt{\\frac{3(n-1)s^2}{(\\pi^2-6)\\chi^2_{a/2}}},\\sqrt{\\frac{3(n-1)s^2}{(\\pi^2-6)\\chi^2_{1-a/2}}})$$\n",
        "\n",
        "respectivamente, así, tenemos:"
      ],
      "metadata": {
        "id": "iNRJtGPrNEil"
      }
    },
    {
      "cell_type": "code",
      "source": [
        "z=stats.norm.ppf(1-0.025)\n",
        "\n",
        "med_inf=x.mean()-z*np.sqrt(x.var()/len(x))\n",
        "med_sup=x.mean()+z*np.sqrt(x.var()/len(x))\n",
        "\n",
        "chi=stats.chi2.ppf(1-0.025,len(x)-1)\n",
        "var_inf=np.sqrt(3*(len(x)-1)*x.var()/((np.pi*np.pi-6)*chi))\n",
        "\n",
        "chi=stats.chi2.ppf(0.025,len(x)-1)\n",
        "var_sup=np.sqrt(3*(len(x)-1)*x.var()/((np.pi*np.pi-6)*chi))\n",
        "\n",
        "print(\"El intervalo de confianza de B del 95% es:\")\n",
        "print('(',med_inf,med_sup,')\\n')\n",
        "\n",
        "print(\"El intervalo de confianza de a del 95% es:\")\n",
        "print('(',var_inf,var_sup,')')"
      ],
      "metadata": {
        "colab": {
          "base_uri": "https://localhost:8080/"
        },
        "id": "zNKtPHtXfnif",
        "outputId": "07b60db7-d540-4896-dfda-b1dcea005e89"
      },
      "execution_count": 4,
      "outputs": [
        {
          "output_type": "stream",
          "name": "stdout",
          "text": [
            "El intervalo de confianza de B del 95% es:\n",
            "( 1.801024843303938 2.467383643496061 )\n",
            "\n",
            "El intervalo de confianza de a del 95% es:\n",
            "( 1.3141813388045576 1.7387699768524847 )\n"
          ]
        }
      ]
    },
    {
      "cell_type": "markdown",
      "source": [
        "# Problema 2:\n",
        "\n",
        "Con la misma secuencia de datos del problema anterior x. I**magína que no conoces la distribución de donde proviene la muestra**. Estima el primer momento de la distribución $\\mu=\\bar{x}$ (promedio) y enstima el intervalo de confianza del 95%. "
      ],
      "metadata": {
        "id": "ZzNyWcN2xFnH"
      }
    },
    {
      "cell_type": "markdown",
      "source": [
        "# **Solución**"
      ],
      "metadata": {
        "id": "I0xoay7Fobwx"
      }
    },
    {
      "cell_type": "markdown",
      "source": [
        "# Problema 3:\n",
        "\n",
        "Supongamos que deseas analizar la diferencia en las calificaciones obtenidas por tres grupos de estudiantes en un examen de matemáticas. Los grupos son: \"Grupo A\", \"Grupo B\" y \"Grupo C\". Tienes los datos de las calificaciones obtenidas por cada estudiante en un archivo CSV llamado \"calificaciones.csv\". \n",
        "\n",
        "Haz una prueba Anova para ver si hay diferencia en calificaciones de los tres grupos."
      ],
      "metadata": {
        "id": "6Sn4j3pGxQIm"
      }
    },
    {
      "cell_type": "markdown",
      "source": [
        "# Problema 4:\n",
        "\n",
        "Supongamos que tienes dos grupos de datos: \"Grupo A\" y \"Grupo B\", y deseas determinar si hay una diferencia significativa entre las medianas de ambos grupos. No sabes si los datos provienene de distribución normal.\n",
        "\n",
        "a) Has una prueba gráfica y una prueba de hipótsis para saber si los datos tienen una distribución normal para ambos grupos.\n",
        "\n",
        "b) Emplea estadística no paramétrica para probar si hay diferencia significativa en la mediana entre ambos grupos.\n",
        "\n",
        "Los datos están en el archivo datos.csv"
      ],
      "metadata": {
        "id": "mZ1Y6Jj3xSai"
      }
    }
  ]
}