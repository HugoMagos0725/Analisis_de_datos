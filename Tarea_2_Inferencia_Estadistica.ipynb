{
  "nbformat": 4,
  "nbformat_minor": 0,
  "metadata": {
    "colab": {
      "provenance": [],
      "authorship_tag": "ABX9TyPzCa4ajiqoYemu1ZKw+9WH",
      "include_colab_link": true
    },
    "kernelspec": {
      "name": "python3",
      "display_name": "Python 3"
    },
    "language_info": {
      "name": "python"
    }
  },
  "cells": [
    {
      "cell_type": "markdown",
      "metadata": {
        "id": "view-in-github",
        "colab_type": "text"
      },
      "source": [
        "<a href=\"https://colab.research.google.com/github/HugoMagos0725/Analisis_de_datos/blob/main/Tarea_2_Inferencia_Estadistica.ipynb\" target=\"_parent\"><img src=\"https://colab.research.google.com/assets/colab-badge.svg\" alt=\"Open In Colab\"/></a>"
      ]
    },
    {
      "cell_type": "markdown",
      "source": [
        "**FCFM-BUAP, 2023**"
      ],
      "metadata": {
        "id": "p6Y5IdOcwsqj"
      }
    },
    {
      "cell_type": "markdown",
      "source": [
        "## Proyecto: Inferencia Estadistica\n",
        "Nombre: Hugo Cuautle Magos\n",
        "\n",
        "Matricula: 201847053\n",
        "\n",
        "Materia: Análisis de datos"
      ],
      "metadata": {
        "id": "j1sWWFYilK_V"
      }
    },
    {
      "cell_type": "markdown",
      "source": [
        "# Problema 1:\n",
        "\n",
        "Los siguientes datos\n"
      ],
      "metadata": {
        "id": "XvD6vJChkjev"
      }
    },
    {
      "cell_type": "code",
      "source": [
        "import numpy as np\n",
        "\n",
        "\n",
        "x = np.array([ 3.8058516 ,  4.19437519,  1.37709166,  0.77009889,  5.20968912,\n",
        "        0.65358179,  3.9701773 ,  2.07495512,  3.02571317,  3.1321825 ,\n",
        "        3.10005197,  4.94755324,  2.26160675,  0.59817735,  1.19183984,\n",
        "        1.37467926, -0.61701765,  5.01024433,  3.13300185,  5.2957513 ,\n",
        "        5.49070323, -1.13532482, -0.34934039,  5.72120588,  1.23276086,\n",
        "        4.33202401,  4.00250539, -0.40665993,  1.05709082,  3.68821387,\n",
        "        1.12295318,  2.10739471,  0.53197551, -0.27389039,  1.48139076,\n",
        "        0.70014346,  2.31649553,  2.44322569,  3.86141784,  2.04558533,\n",
        "        2.98230541,  3.69456416,  2.35192256,  0.11488102,  1.24948211,\n",
        "        2.34006925,  1.45962495, -0.09042347, -0.05130358,  1.15963357,\n",
        "        0.56871108,  2.70715761,  2.47673624,  1.70400014,  1.60709535,\n",
        "       -0.40534576,  3.07910114,  0.80967033,  5.04007949,  0.11755631,\n",
        "        1.427098  , -0.07170736,  5.11381387,  3.54324208,  4.39654794,\n",
        "        0.10687046,  2.89288521,  4.23476606,  1.54499074,  2.68598353,\n",
        "       -1.02087514,  1.9960533 ,  5.24364406,  3.2185187 , -0.38242978,\n",
        "        3.49462381,  1.06077727, -0.02623431,  3.92295454,  1.48746264,\n",
        "        2.74412523, -0.29060423,  3.915251  ,  3.13072888,  3.78471126,\n",
        "       -0.26904523,  0.66725871,  2.75931047,  2.09460576,  1.15288733,\n",
        "        3.08004069,  2.51581013,  1.88470954,  3.18040196,  0.85962888,\n",
        "       -0.2126045 ,  3.2505909 ,  2.7800464 ,  1.41144019,  2.71715232])"
      ],
      "metadata": {
        "id": "Jk8my-kjw1ZH"
      },
      "execution_count": 1,
      "outputs": []
    },
    {
      "cell_type": "markdown",
      "source": [
        "es una muestra de una distribución coseno:\n",
        "$$f(x)=C\\frac{1}{2\\pi}(1+\\cos(x/a-b))$$\n",
        "para $$-\\pi < x/a-b <\\pi$$ y donde C es una constante de normalización.\n",
        "\n",
        "\"a\" se conoce como la escala y \"b\" como la localización.\n",
        "\n",
        "Estima los parámetros \"a\" y \"b\" a partir de los datos y da un intervalo de confianza para ellos del 95%."
      ],
      "metadata": {
        "id": "EDn5cr8nw-hD"
      }
    },
    {
      "cell_type": "markdown",
      "source": [
        "#**Solución**"
      ],
      "metadata": {
        "id": "gDlw6m1Jnq5S"
      }
    },
    {
      "cell_type": "markdown",
      "source": [
        "Veamos que la función stats.cosine, considera la función de densidad como: \n",
        "$$f(x)=C\\frac{1}{2\\pi}(1+\\cos(\\frac{x-B}{a}))$$\n",
        "Esto se puede ver en https://docs.scipy.org/doc/scipy/reference/generated/scipy.stats.cosine.html\n",
        "\n",
        "Por lo que consideremos la función de esta forma, y estimemos los parametros, esto podemos regresarlo a la función planteada en el problema mediante el cambio de variable $B=ba$\n",
        "\n",
        "Primero veamos que el dominio de la función es $$-\\pi < (x-B)/a <\\pi $$\n",
        "    \n",
        "de esta forma: $$B-a\\pi < x < B+a\\pi$$\n",
        "\n",
        "Ahora veamos que $f(x)$ se trata de una función de densidad de probabilidad, así, se tiene que cumplir que \n",
        "\n",
        "$$\\int_{B-a\\pi}^{ B+a\\pi}f(x)dx=1$$\n",
        "\n",
        "Por lo que:\n",
        "\n",
        "\\begin{equation}\n",
        "  \\begin{split}\n",
        "    1 & = \\int_{B-a\\pi}^{ B+a\\pi}f(x)dx\\\\\n",
        "    & = \\int_{B-a\\pi}^{B+a\\pi}C\\frac{1}{2\\pi}(1+cos(\\frac{x-B}{a}))dx \\\\\n",
        "    & = Ca \n",
        "  \\end{split}\n",
        "\\end{equation}\n",
        "\n",
        "De esta forma $C= \\frac{1}{a}$\n",
        "\n",
        "Así, nos queda la función de probabilidad :\n",
        "\n",
        "$$f(x)=\\frac{1}{2a\\pi}(1+\\cos(\\frac{x-B}{a}))$$\n",
        "\n",
        "Calculemos su esperanza: \n",
        "\n",
        "\\begin{equation}\n",
        "  \\begin{split}\n",
        "    E[X] & = \\int_{B-a\\pi}^{ B+a\\pi}xf(x)dx\\\\\n",
        "    & = \\int_{B-a\\pi}^{B+a\\pi}\\frac{x}{2a\\pi}(1+cos(\\frac{x-B}{a}))dx \\\\\n",
        "    & = B\n",
        "  \\end{split}\n",
        "\\end{equation}\n",
        "\n",
        "Ahora calculemos su segundo momento y seguido de esto su varianza: \n",
        "\n",
        "\\begin{equation}\n",
        "  \\begin{split}\n",
        "    E[X^2] & = \\int_{B-a\\pi}^{ B+a\\pi}x^2f(x)dx\\\\\n",
        "    & = \\int_{B-a\\pi}^{B+a\\pi}\\frac{x^2}{2a\\pi}(1+cos(\\frac{x-B}{a}))dx \\\\\n",
        "    & = \\frac{(\\pi^2-6)a^2+3B^2}{3}\n",
        "  \\end{split}\n",
        "\\end{equation}\n",
        "\n",
        "\\begin{equation}\n",
        "  \\begin{split}\n",
        "    Var[X^2] & = E[X^2]-E[X]^2 \\\\\n",
        "    & = \\frac{(\\pi^2-6)a^2+3B^2}{3} - B^2 \\\\\n",
        "    & = \\frac{(\\pi^2-6)a^2}{3}\n",
        "  \\end{split}\n",
        "\\end{equation}\n",
        "\n",
        "Estimando la media y la varianza con el promedio y la varianza insesgada, tenemos: \n",
        "\n",
        "\\begin{cases}\n",
        "  B = E[X]= \\overline{X} \\\\\n",
        "  \\frac{(\\pi^2-6)a^2}{3} = Var[X]=s^2\n",
        "\\end{cases}\n",
        "\n",
        "así, podemos estimar los valores de a y B, como sigue: \n",
        "\n",
        "\n",
        "\\begin{cases}\n",
        "  B = \\overline{X} \\\\\n",
        "  a = \\sqrt{\\frac{3s^2}{\\pi^2-6}}\n",
        "\\end{cases}\n",
        "\n",
        "entonces: "
      ],
      "metadata": {
        "id": "s8VzFjh9lkFR"
      }
    },
    {
      "cell_type": "code",
      "source": [
        "B = x.mean()\n",
        "a =np.sqrt((3*x.var())/(np.pi*np.pi-6))\n",
        "\n",
        "print('a=', a)\n",
        "print('B=',B)"
      ],
      "metadata": {
        "colab": {
          "base_uri": "https://localhost:8080/"
        },
        "id": "381JRofS-aq5",
        "outputId": "aba55e08-41d3-4388-cc56-a41f218d18c0"
      },
      "execution_count": 2,
      "outputs": [
        {
          "output_type": "stream",
          "name": "stdout",
          "text": [
            "a= 1.4967780099710417\n",
            "B= 2.1342042433999997\n"
          ]
        }
      ]
    },
    {
      "cell_type": "markdown",
      "source": [
        "Por lo que tenemos que: \n",
        "\n",
        "$$a = 1.496778 \\text{ y } B=2.1342$$\n",
        "\n",
        "Comparemos la función de acumulación de una distribucion coseno (con los parametros encontrados a y B), con la acumulación de nuestros datos "
      ],
      "metadata": {
        "id": "EiM0nKcfL091"
      }
    },
    {
      "cell_type": "markdown",
      "source": [
        "Veamos su parecido con la función normal. Tanto la función de densidad, como la función de acumulación: "
      ],
      "metadata": {
        "id": "c8qy8a3yTQSp"
      }
    },
    {
      "cell_type": "code",
      "source": [
        "from scipy import stats\n",
        "import matplotlib.pyplot as plt\n",
        "import statsmodels.api as sm\n",
        "\n",
        "def fun(x,a,b):\n",
        "  return (1/(2*np.pi*a))*(1+np.cos((x-b)/a))\n",
        "\n",
        "plt.plot(np.sort(x),fun(np.sort(x),a,B))\n",
        "plt.plot(np.sort(x),stats.norm(loc=x.mean(),scale=np.sqrt(x.var())).pdf(np.sort(x)))\n",
        "plt.legend(['Coseno','Normal'])\n",
        "plt.show()"
      ],
      "metadata": {
        "colab": {
          "base_uri": "https://localhost:8080/",
          "height": 265
        },
        "id": "zm8gmo82TRFD",
        "outputId": "8786b783-ad74-411a-f202-c2c56aced944"
      },
      "execution_count": 3,
      "outputs": [
        {
          "output_type": "display_data",
          "data": {
            "text/plain": [
              "<Figure size 432x288 with 1 Axes>"
            ],
            "image/png": "[encoded data removed]"
          },
          "metadata": {
            "needs_background": "light"
          }
        }
      ]
    },
    {
      "cell_type": "code",
      "source": [
        "x_ord=np.sort(x)\n",
        "acumulada= np.linspace(0,1,len(x))\n",
        "\n",
        "x_1 = np.linspace(stats.cosine(B,a).ppf(0.01),\n",
        "                  stats.cosine(B,a).ppf(0.99), 10000)\n",
        "fda_cosine=stats.cosine.cdf(x_1, loc=B, scale=a)\n",
        "\n",
        "plt.plot(x_ord,acumulada)\n",
        "plt.plot(x_1,fda_cosine)\n",
        "plt.show()"
      ],
      "metadata": {
        "colab": {
          "base_uri": "https://localhost:8080/",
          "height": 265
        },
        "id": "edrPtqD3_N6x",
        "outputId": "bbedf9cf-85dc-4a8e-93f5-dffa5c289c63"
      },
      "execution_count": 4,
      "outputs": [
        {
          "output_type": "display_data",
          "data": {
            "text/plain": [
              "<Figure size 432x288 with 1 Axes>"
            ],
            "image/png": "[encoded data removed]"
          },
          "metadata": {
            "needs_background": "light"
          }
        }
      ]
    },
    {
      "cell_type": "markdown",
      "source": [
        "Vemos que las gráficas son muy parecidas.\n",
        "\n",
        "\n",
        "Encontremos los intervalos de confianza, generando 100 arreglos aleatorios de una distribucion coseno, con parametros $a=1.496778$ y $B=2.1342$ de tamaño 100, tomando su media muestral y varianza insesgada de los 95 mas al centro, y con eso generar el intervalo de confianza de 95% de $a$ y $B$"
      ],
      "metadata": {
        "id": "0r0-UN8t5SLW"
      }
    },
    {
      "cell_type": "code",
      "source": [
        "import pandas as pd\n",
        "med=np.zeros(100)\n",
        "vari=np.zeros(100)\n",
        "for i in range(0,100):  \n",
        "  ran=stats.cosine.rvs(loc=B,scale=a,size=100)\n",
        "  med[i]=ran.mean()\n",
        "  vari[i]=ran.var()\n",
        "\n",
        "med=np.sort(med)\n",
        "vari=np.sort(vari)\n",
        "\n",
        "def indices(x): \n",
        "  x=(x-x.mean())\n",
        "  ind=[0,0,0,0,0]\n",
        "  for i in range(5):\n",
        "    a=max(abs(x))\n",
        "    ind[i]=list(abs(x)).index(a)\n",
        "    x[ind[i]]=0\n",
        "  return ind\n",
        "\n",
        "ind=indices(med)\n",
        "med=np.delete(med,ind)\n",
        "\n",
        "ind=indices(vari)\n",
        "vari=np.delete(vari,ind)"
      ],
      "metadata": {
        "id": "CRumUpokuZ6y"
      },
      "execution_count": 5,
      "outputs": []
    },
    {
      "cell_type": "markdown",
      "source": [
        "Recordemos que $Var[x]=\\frac{(\\pi^2-6)a^2}{3}$, sea $Z$ nuestro arreglo de varianzas, entonces, el arreglo a usar para obtener el intervalo de confianza de a, sería: \n",
        "\n",
        "$$\\sqrt{\\frac{3*Z}{\\pi^2-6}}$$\n"
      ],
      "metadata": {
        "id": "erW79Asl6FAm"
      }
    },
    {
      "cell_type": "code",
      "source": [
        "vari=np.sqrt(3*vari/(np.pi*np.pi-6))"
      ],
      "metadata": {
        "id": "wl4W_LkZ7OkC"
      },
      "execution_count": 6,
      "outputs": []
    },
    {
      "cell_type": "code",
      "source": [
        "print(\"Los valores estimados de a y B son: \", end='')\n",
        "print(' a = ',a,' B= ',B)\n",
        "text='\\nIntervalo de confianza del 95% de '\n",
        "print(text+'\"a\" es de: (',vari[0],vari[-1],')')\n",
        "print(text+'\"B\" es de: (',med[0],med[-1],')')"
      ],
      "metadata": {
        "colab": {
          "base_uri": "https://localhost:8080/"
        },
        "id": "Aamcpr0W7qxz",
        "outputId": "8cbb33ad-f0c0-41a0-f9a3-2518c1584866"
      },
      "execution_count": 7,
      "outputs": [
        {
          "output_type": "stream",
          "name": "stdout",
          "text": [
            "Los valores estimados de a y B son:  a =  1.4967780099710417  B=  2.1342042433999997\n",
            "\n",
            "Intervalo de confianza del 95% de \"a\" es de: ( 1.3216353515648727 1.6516245558969913 )\n",
            "\n",
            "Intervalo de confianza del 95% de \"B\" es de: ( 1.8354668332327233 2.4715423710896918 )\n"
          ]
        }
      ]
    },
    {
      "cell_type": "markdown",
      "source": [
        "# Problema 2:\n",
        "\n",
        "Con la misma secuencia de datos del problema anterior x. I**magína que no conoces la distribución de donde proviene la muestra**. Estima el primer momento de la distribución $\\mu=\\bar{x}$ (promedio) y enstima el intervalo de confianza del 95%. "
      ],
      "metadata": {
        "id": "ZzNyWcN2xFnH"
      }
    },
    {
      "cell_type": "markdown",
      "source": [
        "# **Solución**"
      ],
      "metadata": {
        "id": "I0xoay7Fobwx"
      }
    },
    {
      "cell_type": "code",
      "source": [
        "def grafico(a,b):\n",
        "  fig, ax = plt.subplots(figsize=(7,4))\n",
        "  sm.qqplot(np.array(a), fit   = True, line  = 'q', ax    = ax)\n",
        "  ax.set_title('Gráfico Q-Qs de '+b, fontsize = 10,\n",
        "             fontweight = \"bold\")\n",
        "  ax.tick_params(labelsize = 7)\n",
        "\n",
        "grafico(x,'Conjunto de datos')"
      ],
      "metadata": {
        "colab": {
          "base_uri": "https://localhost:8080/",
          "height": 290
        },
        "id": "ubA_LWA4HKMN",
        "outputId": "bb2db27c-761d-46c1-bd54-45ed94b587ba"
      },
      "execution_count": 8,
      "outputs": [
        {
          "output_type": "display_data",
          "data": {
            "text/plain": [
              "<Figure size 504x288 with 1 Axes>"
            ],
            "image/png": "[encoded data removed]"
          },
          "metadata": {
            "needs_background": "light"
          }
        }
      ]
    },
    {
      "cell_type": "markdown",
      "source": [
        "Vemos mediante el gráfico Q-Q, que la distribución de nuestros datos es casí de tipo normal, ahora, hagamos una prueba de hipotesis para ver si estos pueden pertenecer a una distribución normal: \n",
        "\n",
        "Realicemos una prueba de 'D'Agostino's K-squared test'"
      ],
      "metadata": {
        "id": "6owoCfJtIxCY"
      }
    },
    {
      "cell_type": "code",
      "source": [
        "from scipy.stats import shapiro \n",
        "est,p_value = shapiro(x)\n",
        "\n",
        "print(\"Estadistico=%.3f, p_value=%.3f\" % (est,p_value))"
      ],
      "metadata": {
        "colab": {
          "base_uri": "https://localhost:8080/"
        },
        "id": "HKv6mel2JJuY",
        "outputId": "e7399086-f02f-4a19-972e-ec0a1ef94c02"
      },
      "execution_count": 9,
      "outputs": [
        {
          "output_type": "stream",
          "name": "stdout",
          "text": [
            "Estadistico=0.976, p_value=0.063\n"
          ]
        }
      ]
    },
    {
      "cell_type": "markdown",
      "source": [
        "Como p_value es mayor a 0.05, podemos decir que los datos si pueden provenir de una distribución normal"
      ],
      "metadata": {
        "id": "4jacds6iLtWe"
      }
    },
    {
      "cell_type": "code",
      "source": [
        "media = x.mean()\n",
        "print('La estimación del primer momento es: ', media)"
      ],
      "metadata": {
        "colab": {
          "base_uri": "https://localhost:8080/"
        },
        "id": "Oh5NIg5Ap8AT",
        "outputId": "e34cbb77-85e0-4640-aa34-0c946286f3ae"
      },
      "execution_count": 10,
      "outputs": [
        {
          "output_type": "stream",
          "name": "stdout",
          "text": [
            "La estimación del primer momento es:  2.1342042433999997\n"
          ]
        }
      ]
    },
    {
      "cell_type": "markdown",
      "source": [
        "Sabemos que nuestros datos se distribuyen de una forma casi normal por la prueba de shapiro, y al tener una muestra grande $(n>30)$, podemos utilizar el teorema del limite central para obtener un intervalo de confianza para la media, y esta va a ser \n",
        "\n",
        "$$(\\overline{X}-z_{\\alpha/2}\\frac{s}{\\sqrt{n}},\\overline{X}+z_{\\alpha/\n",
        "2}\\frac{s}{\\sqrt{n}})$$\n",
        "\n",
        "Por lo que: "
      ],
      "metadata": {
        "id": "yQ5dXAGnqnbL"
      }
    },
    {
      "cell_type": "code",
      "source": [
        "z=stats.norm.ppf(1-0.025)\n",
        "\n",
        "med_inf=x.mean()-z*np.sqrt(x.var()/len(x))\n",
        "med_sup=x.mean()+z*np.sqrt(x.var()/len(x))\n",
        "\n",
        "print(\"El intervalo de confianza de la media mu del 95% es:\")\n",
        "print('(',med_inf,med_sup,')\\n')"
      ],
      "metadata": {
        "colab": {
          "base_uri": "https://localhost:8080/"
        },
        "id": "Hgcgwy2lrWIh",
        "outputId": "08c5b33b-aa64-4823-a756-9ad26d8545e2"
      },
      "execution_count": 11,
      "outputs": [
        {
          "output_type": "stream",
          "name": "stdout",
          "text": [
            "El intervalo de confianza de la media mu del 95% es:\n",
            "( 1.801024843303938 2.467383643496061 )\n",
            "\n"
          ]
        }
      ]
    },
    {
      "cell_type": "markdown",
      "source": [
        "# Problema 3:\n",
        "\n",
        "Supongamos que deseas analizar la diferencia en las calificaciones obtenidas por tres grupos de estudiantes en un examen de matemáticas. Los grupos son: \"Grupo A\", \"Grupo B\" y \"Grupo C\". Tienes los datos de las calificaciones obtenidas por cada estudiante en un archivo CSV llamado \"calificaciones.csv\". \n",
        "\n",
        "Haz una prueba Anova para ver si hay diferencia en calificaciones de los tres grupos."
      ],
      "metadata": {
        "id": "6Sn4j3pGxQIm"
      }
    },
    {
      "cell_type": "markdown",
      "source": [
        "#**Solución**"
      ],
      "metadata": {
        "id": "Pwo6t46c_kyz"
      }
    },
    {
      "cell_type": "code",
      "source": [
        "from google.colab import drive\n",
        "drive.mount('/content/drive')\n",
        "\n",
        "df=pd.read_csv('/content/drive/MyDrive/calificaciones.csv')\n",
        "df"
      ],
      "metadata": {
        "colab": {
          "base_uri": "https://localhost:8080/",
          "height": 631
        },
        "id": "jw19zy5q-hmb",
        "outputId": "8560a0d1-ca8c-4847-eb8a-517efa4f1b06"
      },
      "execution_count": 12,
      "outputs": [
        {
          "output_type": "stream",
          "name": "stdout",
          "text": [
            "Drive already mounted at /content/drive; to attempt to forcibly remount, call drive.mount(\"/content/drive\", force_remount=True).\n"
          ]
        },
        {
          "output_type": "execute_result",
          "data": {
            "text/plain": [
              "      Grupo     Estudiante  Calificación\n",
              "0   Grupo A   Estudiante 1           8.6\n",
              "1   Grupo A   Estudiante 2           7.9\n",
              "2   Grupo A   Estudiante 3           6.5\n",
              "3   Grupo A   Estudiante 4           9.1\n",
              "4   Grupo A   Estudiante 5           8.0\n",
              "5   Grupo A   Estudiante 6           7.2\n",
              "6   Grupo B   Estudiante 7           6.9\n",
              "7   Grupo B   Estudiante 8           7.4\n",
              "8   Grupo B   Estudiante 9           8.2\n",
              "9   Grupo B  Estudiante 10           7.8\n",
              "10  Grupo B  Estudiante 11           6.7\n",
              "11  Grupo B  Estudiante 12           8.3\n",
              "12  Grupo C  Estudiante 13           9.2\n",
              "13  Grupo C  Estudiante 14           8.6\n",
              "14  Grupo C  Estudiante 15           7.7\n",
              "15  Grupo C  Estudiante 16           8.9\n",
              "16  Grupo C  Estudiante 17           9.0\n",
              "17  Grupo C  Estudiante 18           9.5"
            ],
            "text/html": [
              "\n",
              "  <div id=\"df-a888069b-b7b9-4492-a86a-508dd177d0ac\">\n",
              "    <div class=\"colab-df-container\">\n",
              "      <div>\n",
              "<style scoped>\n",
              "    .dataframe tbody tr th:only-of-type {\n",
              "        vertical-align: middle;\n",
              "    }\n",
              "\n",
              "    .dataframe tbody tr th {\n",
              "        vertical-align: top;\n",
              "    }\n",
              "\n",
              "    .dataframe thead th {\n",
              "        text-align: right;\n",
              "    }\n",
              "</style>\n",
              "<table border=\"1\" class=\"dataframe\">\n",
              "  <thead>\n",
              "    <tr style=\"text-align: right;\">\n",
              "      <th></th>\n",
              "      <th>Grupo</th>\n",
              "      <th>Estudiante</th>\n",
              "      <th>Calificación</th>\n",
              "    </tr>\n",
              "  </thead>\n",
              "  <tbody>\n",
              "    <tr>\n",
              "      <th>0</th>\n",
              "      <td>Grupo A</td>\n",
              "      <td>Estudiante 1</td>\n",
              "      <td>8.6</td>\n",
              "    </tr>\n",
              "    <tr>\n",
              "      <th>1</th>\n",
              "      <td>Grupo A</td>\n",
              "      <td>Estudiante 2</td>\n",
              "      <td>7.9</td>\n",
              "    </tr>\n",
              "    <tr>\n",
              "      <th>2</th>\n",
              "      <td>Grupo A</td>\n",
              "      <td>Estudiante 3</td>\n",
              "      <td>6.5</td>\n",
              "    </tr>\n",
              "    <tr>\n",
              "      <th>3</th>\n",
              "      <td>Grupo A</td>\n",
              "      <td>Estudiante 4</td>\n",
              "      <td>9.1</td>\n",
              "    </tr>\n",
              "    <tr>\n",
              "      <th>4</th>\n",
              "      <td>Grupo A</td>\n",
              "      <td>Estudiante 5</td>\n",
              "      <td>8.0</td>\n",
              "    </tr>\n",
              "    <tr>\n",
              "      <th>5</th>\n",
              "      <td>Grupo A</td>\n",
              "      <td>Estudiante 6</td>\n",
              "      <td>7.2</td>\n",
              "    </tr>\n",
              "    <tr>\n",
              "      <th>6</th>\n",
              "      <td>Grupo B</td>\n",
              "      <td>Estudiante 7</td>\n",
              "      <td>6.9</td>\n",
              "    </tr>\n",
              "    <tr>\n",
              "      <th>7</th>\n",
              "      <td>Grupo B</td>\n",
              "      <td>Estudiante 8</td>\n",
              "      <td>7.4</td>\n",
              "    </tr>\n",
              "    <tr>\n",
              "      <th>8</th>\n",
              "      <td>Grupo B</td>\n",
              "      <td>Estudiante 9</td>\n",
              "      <td>8.2</td>\n",
              "    </tr>\n",
              "    <tr>\n",
              "      <th>9</th>\n",
              "      <td>Grupo B</td>\n",
              "      <td>Estudiante 10</td>\n",
              "      <td>7.8</td>\n",
              "    </tr>\n",
              "    <tr>\n",
              "      <th>10</th>\n",
              "      <td>Grupo B</td>\n",
              "      <td>Estudiante 11</td>\n",
              "      <td>6.7</td>\n",
              "    </tr>\n",
              "    <tr>\n",
              "      <th>11</th>\n",
              "      <td>Grupo B</td>\n",
              "      <td>Estudiante 12</td>\n",
              "      <td>8.3</td>\n",
              "    </tr>\n",
              "    <tr>\n",
              "      <th>12</th>\n",
              "      <td>Grupo C</td>\n",
              "      <td>Estudiante 13</td>\n",
              "      <td>9.2</td>\n",
              "    </tr>\n",
              "    <tr>\n",
              "      <th>13</th>\n",
              "      <td>Grupo C</td>\n",
              "      <td>Estudiante 14</td>\n",
              "      <td>8.6</td>\n",
              "    </tr>\n",
              "    <tr>\n",
              "      <th>14</th>\n",
              "      <td>Grupo C</td>\n",
              "      <td>Estudiante 15</td>\n",
              "      <td>7.7</td>\n",
              "    </tr>\n",
              "    <tr>\n",
              "      <th>15</th>\n",
              "      <td>Grupo C</td>\n",
              "      <td>Estudiante 16</td>\n",
              "      <td>8.9</td>\n",
              "    </tr>\n",
              "    <tr>\n",
              "      <th>16</th>\n",
              "      <td>Grupo C</td>\n",
              "      <td>Estudiante 17</td>\n",
              "      <td>9.0</td>\n",
              "    </tr>\n",
              "    <tr>\n",
              "      <th>17</th>\n",
              "      <td>Grupo C</td>\n",
              "      <td>Estudiante 18</td>\n",
              "      <td>9.5</td>\n",
              "    </tr>\n",
              "  </tbody>\n",
              "</table>\n",
              "</div>\n",
              "      <button class=\"colab-df-convert\" onclick=\"convertToInteractive('df-a888069b-b7b9-4492-a86a-508dd177d0ac')\"\n",
              "              title=\"Convert this dataframe to an interactive table.\"\n",
              "              style=\"display:none;\">\n",
              "        \n",
              "  <svg xmlns=\"http://www.w3.org/2000/svg\" height=\"24px\"viewBox=\"0 0 24 24\"\n",
              "       width=\"24px\">\n",
              "    <path d=\"M0 0h24v24H0V0z\" fill=\"none\"/>\n",
              "    <path d=\"M18.56 5.44l.94 2.06.94-2.06 2.06-.94-2.06-.94-.94-2.06-.94 2.06-2.06.94zm-11 1L8.5 8.5l.94-2.06 2.06-.94-2.06-.94L8.5 2.5l-.94 2.06-2.06.94zm10 10l.94 2.06.94-2.06 2.06-.94-2.06-.94-.94-2.06-.94 2.06-2.06.94z\"/><path d=\"M17.41 7.96l-1.37-1.37c-.4-.4-.92-.59-1.43-.59-.52 0-1.04.2-1.43.59L10.3 9.45l-7.72 7.72c-.78.78-.78 2.05 0 2.83L4 21.41c.39.39.9.59 1.41.59.51 0 1.02-.2 1.41-.59l7.78-7.78 2.81-2.81c.8-.78.8-2.07 0-2.86zM5.41 20L4 18.59l7.72-7.72 1.47 1.35L5.41 20z\"/>\n",
              "  </svg>\n",
              "      </button>\n",
              "      \n",
              "  <style>\n",
              "    .colab-df-container {\n",
              "      display:flex;\n",
              "      flex-wrap:wrap;\n",
              "      gap: 12px;\n",
              "    }\n",
              "\n",
              "    .colab-df-convert {\n",
              "      background-color: #E8F0FE;\n",
              "      border: none;\n",
              "      border-radius: 50%;\n",
              "      cursor: pointer;\n",
              "      display: none;\n",
              "      fill: #1967D2;\n",
              "      height: 32px;\n",
              "      padding: 0 0 0 0;\n",
              "      width: 32px;\n",
              "    }\n",
              "\n",
              "    .colab-df-convert:hover {\n",
              "      background-color: #E2EBFA;\n",
              "      box-shadow: 0px 1px 2px rgba(60, 64, 67, 0.3), 0px 1px 3px 1px rgba(60, 64, 67, 0.15);\n",
              "      fill: #174EA6;\n",
              "    }\n",
              "\n",
              "    [theme=dark] .colab-df-convert {\n",
              "      background-color: #3B4455;\n",
              "      fill: #D2E3FC;\n",
              "    }\n",
              "\n",
              "    [theme=dark] .colab-df-convert:hover {\n",
              "      background-color: #434B5C;\n",
              "      box-shadow: 0px 1px 3px 1px rgba(0, 0, 0, 0.15);\n",
              "      filter: drop-shadow(0px 1px 2px rgba(0, 0, 0, 0.3));\n",
              "      fill: #FFFFFF;\n",
              "    }\n",
              "  </style>\n",
              "\n",
              "      <script>\n",
              "        const buttonEl =\n",
              "          document.querySelector('#df-a888069b-b7b9-4492-a86a-508dd177d0ac button.colab-df-convert');\n",
              "        buttonEl.style.display =\n",
              "          google.colab.kernel.accessAllowed ? 'block' : 'none';\n",
              "\n",
              "        async function convertToInteractive(key) {\n",
              "          const element = document.querySelector('#df-a888069b-b7b9-4492-a86a-508dd177d0ac');\n",
              "          const dataTable =\n",
              "            await google.colab.kernel.invokeFunction('convertToInteractive',\n",
              "                                                     [key], {});\n",
              "          if (!dataTable) return;\n",
              "\n",
              "          const docLinkHtml = 'Like what you see? Visit the ' +\n",
              "            '<a target=\"_blank\" href=https://colab.research.google.com/notebooks/data_table.ipynb>data table notebook</a>'\n",
              "            + ' to learn more about interactive tables.';\n",
              "          element.innerHTML = '';\n",
              "          dataTable['output_type'] = 'display_data';\n",
              "          await google.colab.output.renderOutput(dataTable, element);\n",
              "          const docLink = document.createElement('div');\n",
              "          docLink.innerHTML = docLinkHtml;\n",
              "          element.appendChild(docLink);\n",
              "        }\n",
              "      </script>\n",
              "    </div>\n",
              "  </div>\n",
              "  "
            ]
          },
          "metadata": {},
          "execution_count": 12
        }
      ]
    },
    {
      "cell_type": "code",
      "source": [
        "from scipy.stats import f_oneway\n",
        "\n",
        "a=df[df['Grupo']=='Grupo A']['Calificación'].to_list()\n",
        "b=df[df['Grupo']=='Grupo B']['Calificación'].to_list()\n",
        "c=df[df['Grupo']=='Grupo C']['Calificación'].to_list()\n",
        "\n",
        "est,p_val=f_oneway(a,b,c)\n",
        "\n",
        "print('Estadistico de prueba:',est)\n",
        "print('Valor p:', p_val)"
      ],
      "metadata": {
        "colab": {
          "base_uri": "https://localhost:8080/"
        },
        "id": "eTXajWwEAMLV",
        "outputId": "34b0d95d-8415-45cc-b4f3-317cac372d56"
      },
      "execution_count": 13,
      "outputs": [
        {
          "output_type": "stream",
          "name": "stdout",
          "text": [
            "Estadistico de prueba: 4.537127265640226\n",
            "Valor p: 0.02877650747111931\n"
          ]
        }
      ]
    },
    {
      "cell_type": "markdown",
      "source": [
        "Si consideramos una prueba de significancia de 0.05, vemos que el valor p es menor que este valor, así, rechazamos la hipotesis nula, es decir, las medias poblacionales no son iguales con un nivel de significancia de 0.05"
      ],
      "metadata": {
        "id": "I6OZjbnaNS0l"
      }
    },
    {
      "cell_type": "markdown",
      "source": [
        "# Problema 4:\n",
        "\n",
        "Supongamos que tienes dos grupos de datos: \"Grupo A\" y \"Grupo B\", y deseas determinar si hay una diferencia significativa entre las medianas de ambos grupos. No sabes si los datos provienene de distribución normal.\n",
        "\n",
        "a) Has una prueba gráfica y una prueba de hipótsis para saber si los datos tienen una distribución normal para ambos grupos.\n",
        "\n",
        "b) Emplea estadística no paramétrica para probar si hay diferencia significativa en la mediana entre ambos grupos.\n",
        "\n",
        "Los datos están en el archivo datos.csv"
      ],
      "metadata": {
        "id": "mZ1Y6Jj3xSai"
      }
    },
    {
      "cell_type": "markdown",
      "source": [
        "# **Solución a)**"
      ],
      "metadata": {
        "id": "TDFv5XpcS82M"
      }
    },
    {
      "cell_type": "code",
      "source": [
        "df1=pd.read_csv('/content/drive/MyDrive/datos.csv')\n",
        "df1"
      ],
      "metadata": {
        "colab": {
          "base_uri": "https://localhost:8080/",
          "height": 426
        },
        "id": "tldHJzCSS-3z",
        "outputId": "775a7035-648e-414f-b114-7e617341eb6a"
      },
      "execution_count": 14,
      "outputs": [
        {
          "output_type": "execute_result",
          "data": {
            "text/plain": [
              "      Grupo  Datos\n",
              "0   Grupo A    5.8\n",
              "1   Grupo A    3.1\n",
              "2   Grupo A    7.2\n",
              "3   Grupo A    2.6\n",
              "4   Grupo A    6.7\n",
              "5   Grupo A    4.5\n",
              "6   Grupo B    1.9\n",
              "7   Grupo B    8.5\n",
              "8   Grupo B    4.3\n",
              "9   Grupo B    6.8\n",
              "10  Grupo B    2.1\n",
              "11  Grupo B    7.4"
            ],
            "text/html": [
              "\n",
              "  <div id=\"df-d8c2b336-fdf8-4123-af89-c6de5ce0a6b0\">\n",
              "    <div class=\"colab-df-container\">\n",
              "      <div>\n",
              "<style scoped>\n",
              "    .dataframe tbody tr th:only-of-type {\n",
              "        vertical-align: middle;\n",
              "    }\n",
              "\n",
              "    .dataframe tbody tr th {\n",
              "        vertical-align: top;\n",
              "    }\n",
              "\n",
              "    .dataframe thead th {\n",
              "        text-align: right;\n",
              "    }\n",
              "</style>\n",
              "<table border=\"1\" class=\"dataframe\">\n",
              "  <thead>\n",
              "    <tr style=\"text-align: right;\">\n",
              "      <th></th>\n",
              "      <th>Grupo</th>\n",
              "      <th>Datos</th>\n",
              "    </tr>\n",
              "  </thead>\n",
              "  <tbody>\n",
              "    <tr>\n",
              "      <th>0</th>\n",
              "      <td>Grupo A</td>\n",
              "      <td>5.8</td>\n",
              "    </tr>\n",
              "    <tr>\n",
              "      <th>1</th>\n",
              "      <td>Grupo A</td>\n",
              "      <td>3.1</td>\n",
              "    </tr>\n",
              "    <tr>\n",
              "      <th>2</th>\n",
              "      <td>Grupo A</td>\n",
              "      <td>7.2</td>\n",
              "    </tr>\n",
              "    <tr>\n",
              "      <th>3</th>\n",
              "      <td>Grupo A</td>\n",
              "      <td>2.6</td>\n",
              "    </tr>\n",
              "    <tr>\n",
              "      <th>4</th>\n",
              "      <td>Grupo A</td>\n",
              "      <td>6.7</td>\n",
              "    </tr>\n",
              "    <tr>\n",
              "      <th>5</th>\n",
              "      <td>Grupo A</td>\n",
              "      <td>4.5</td>\n",
              "    </tr>\n",
              "    <tr>\n",
              "      <th>6</th>\n",
              "      <td>Grupo B</td>\n",
              "      <td>1.9</td>\n",
              "    </tr>\n",
              "    <tr>\n",
              "      <th>7</th>\n",
              "      <td>Grupo B</td>\n",
              "      <td>8.5</td>\n",
              "    </tr>\n",
              "    <tr>\n",
              "      <th>8</th>\n",
              "      <td>Grupo B</td>\n",
              "      <td>4.3</td>\n",
              "    </tr>\n",
              "    <tr>\n",
              "      <th>9</th>\n",
              "      <td>Grupo B</td>\n",
              "      <td>6.8</td>\n",
              "    </tr>\n",
              "    <tr>\n",
              "      <th>10</th>\n",
              "      <td>Grupo B</td>\n",
              "      <td>2.1</td>\n",
              "    </tr>\n",
              "    <tr>\n",
              "      <th>11</th>\n",
              "      <td>Grupo B</td>\n",
              "      <td>7.4</td>\n",
              "    </tr>\n",
              "  </tbody>\n",
              "</table>\n",
              "</div>\n",
              "      <button class=\"colab-df-convert\" onclick=\"convertToInteractive('df-d8c2b336-fdf8-4123-af89-c6de5ce0a6b0')\"\n",
              "              title=\"Convert this dataframe to an interactive table.\"\n",
              "              style=\"display:none;\">\n",
              "        \n",
              "  <svg xmlns=\"http://www.w3.org/2000/svg\" height=\"24px\"viewBox=\"0 0 24 24\"\n",
              "       width=\"24px\">\n",
              "    <path d=\"M0 0h24v24H0V0z\" fill=\"none\"/>\n",
              "    <path d=\"M18.56 5.44l.94 2.06.94-2.06 2.06-.94-2.06-.94-.94-2.06-.94 2.06-2.06.94zm-11 1L8.5 8.5l.94-2.06 2.06-.94-2.06-.94L8.5 2.5l-.94 2.06-2.06.94zm10 10l.94 2.06.94-2.06 2.06-.94-2.06-.94-.94-2.06-.94 2.06-2.06.94z\"/><path d=\"M17.41 7.96l-1.37-1.37c-.4-.4-.92-.59-1.43-.59-.52 0-1.04.2-1.43.59L10.3 9.45l-7.72 7.72c-.78.78-.78 2.05 0 2.83L4 21.41c.39.39.9.59 1.41.59.51 0 1.02-.2 1.41-.59l7.78-7.78 2.81-2.81c.8-.78.8-2.07 0-2.86zM5.41 20L4 18.59l7.72-7.72 1.47 1.35L5.41 20z\"/>\n",
              "  </svg>\n",
              "      </button>\n",
              "      \n",
              "  <style>\n",
              "    .colab-df-container {\n",
              "      display:flex;\n",
              "      flex-wrap:wrap;\n",
              "      gap: 12px;\n",
              "    }\n",
              "\n",
              "    .colab-df-convert {\n",
              "      background-color: #E8F0FE;\n",
              "      border: none;\n",
              "      border-radius: 50%;\n",
              "      cursor: pointer;\n",
              "      display: none;\n",
              "      fill: #1967D2;\n",
              "      height: 32px;\n",
              "      padding: 0 0 0 0;\n",
              "      width: 32px;\n",
              "    }\n",
              "\n",
              "    .colab-df-convert:hover {\n",
              "      background-color: #E2EBFA;\n",
              "      box-shadow: 0px 1px 2px rgba(60, 64, 67, 0.3), 0px 1px 3px 1px rgba(60, 64, 67, 0.15);\n",
              "      fill: #174EA6;\n",
              "    }\n",
              "\n",
              "    [theme=dark] .colab-df-convert {\n",
              "      background-color: #3B4455;\n",
              "      fill: #D2E3FC;\n",
              "    }\n",
              "\n",
              "    [theme=dark] .colab-df-convert:hover {\n",
              "      background-color: #434B5C;\n",
              "      box-shadow: 0px 1px 3px 1px rgba(0, 0, 0, 0.15);\n",
              "      filter: drop-shadow(0px 1px 2px rgba(0, 0, 0, 0.3));\n",
              "      fill: #FFFFFF;\n",
              "    }\n",
              "  </style>\n",
              "\n",
              "      <script>\n",
              "        const buttonEl =\n",
              "          document.querySelector('#df-d8c2b336-fdf8-4123-af89-c6de5ce0a6b0 button.colab-df-convert');\n",
              "        buttonEl.style.display =\n",
              "          google.colab.kernel.accessAllowed ? 'block' : 'none';\n",
              "\n",
              "        async function convertToInteractive(key) {\n",
              "          const element = document.querySelector('#df-d8c2b336-fdf8-4123-af89-c6de5ce0a6b0');\n",
              "          const dataTable =\n",
              "            await google.colab.kernel.invokeFunction('convertToInteractive',\n",
              "                                                     [key], {});\n",
              "          if (!dataTable) return;\n",
              "\n",
              "          const docLinkHtml = 'Like what you see? Visit the ' +\n",
              "            '<a target=\"_blank\" href=https://colab.research.google.com/notebooks/data_table.ipynb>data table notebook</a>'\n",
              "            + ' to learn more about interactive tables.';\n",
              "          element.innerHTML = '';\n",
              "          dataTable['output_type'] = 'display_data';\n",
              "          await google.colab.output.renderOutput(dataTable, element);\n",
              "          const docLink = document.createElement('div');\n",
              "          docLink.innerHTML = docLinkHtml;\n",
              "          element.appendChild(docLink);\n",
              "        }\n",
              "      </script>\n",
              "    </div>\n",
              "  </div>\n",
              "  "
            ]
          },
          "metadata": {},
          "execution_count": 14
        }
      ]
    },
    {
      "cell_type": "code",
      "source": [
        "a=df1[df1['Grupo']=='Grupo A']['Datos'].to_list()\n",
        "b=df1[df1['Grupo']=='Grupo B']['Datos'].to_list()"
      ],
      "metadata": {
        "id": "g6hB4m6cTGAT"
      },
      "execution_count": 15,
      "outputs": []
    },
    {
      "cell_type": "markdown",
      "source": [
        "### Prueba grafica de normalidad"
      ],
      "metadata": {
        "id": "obwKbrfbBPQ5"
      }
    },
    {
      "cell_type": "code",
      "source": [
        "grafico(a,'Grupo A')\n",
        "grafico(b,'Grupo B')"
      ],
      "metadata": {
        "colab": {
          "base_uri": "https://localhost:8080/",
          "height": 563
        },
        "id": "_Nzy2JZIyOUt",
        "outputId": "c1666c88-cc37-435f-d802-4942cb6d49b9"
      },
      "execution_count": 16,
      "outputs": [
        {
          "output_type": "display_data",
          "data": {
            "text/plain": [
              "<Figure size 504x288 with 1 Axes>"
            ],
            "image/png": "[encoded data removed]"
          },
          "metadata": {
            "needs_background": "light"
          }
        },
        {
          "output_type": "display_data",
          "data": {
            "text/plain": [
              "<Figure size 504x288 with 1 Axes>"
            ],
            "image/png": "[encoded data removed]"
          },
          "metadata": {
            "needs_background": "light"
          }
        }
      ]
    },
    {
      "cell_type": "markdown",
      "source": [
        "Prueba de hipotesis, para saber si provienen de una distribución normal"
      ],
      "metadata": {
        "id": "I56De8N7BXvw"
      }
    },
    {
      "cell_type": "code",
      "source": [
        "shapiro_test_a=stats.shapiro(a)\n",
        "shapiro_test_b=stats.shapiro(b)\n",
        "\n",
        "print('Valor p de prueba de Grupo A: ',shapiro_test_a[1])\n",
        "print('Valor p de prueba de Grupo B: ',shapiro_test_b[1])"
      ],
      "metadata": {
        "colab": {
          "base_uri": "https://localhost:8080/"
        },
        "id": "SicuggjIztrt",
        "outputId": "2f46e82f-2efd-45c8-aa1e-6d4c5a87cf03"
      },
      "execution_count": 17,
      "outputs": [
        {
          "output_type": "stream",
          "name": "stdout",
          "text": [
            "Valor p de prueba de Grupo A:  0.555199146270752\n",
            "Valor p de prueba de Grupo B:  0.34388166666030884\n"
          ]
        }
      ]
    },
    {
      "cell_type": "markdown",
      "source": [
        "Vemos que el valor p para ambos grupos, es considerablemente alto, por lo que aceptamos la hipotesis nula, acerca de que las muestras vienen de una distribución normal. "
      ],
      "metadata": {
        "id": "MPpBFc4p-5cS"
      }
    },
    {
      "cell_type": "markdown",
      "source": [
        "# **Solución b)**\n",
        "\n",
        "Utilizaremos la prueba de Wilcoxon, para comparar si las dos muestras que tenemos tienen medianas iguales"
      ],
      "metadata": {
        "id": "0fGE5nXM_N76"
      }
    },
    {
      "cell_type": "code",
      "source": [
        "from scipy.stats import wilcoxon\n",
        "\n",
        "wilcoxon(a,b)"
      ],
      "metadata": {
        "colab": {
          "base_uri": "https://localhost:8080/"
        },
        "id": "CX8487h45mgD",
        "outputId": "4ca63f94-9031-426a-a4e6-f9cf65c36275"
      },
      "execution_count": 18,
      "outputs": [
        {
          "output_type": "execute_result",
          "data": {
            "text/plain": [
              "WilcoxonResult(statistic=9.5, pvalue=0.84375)"
            ]
          },
          "metadata": {},
          "execution_count": 18
        }
      ]
    },
    {
      "cell_type": "markdown",
      "source": [
        "Vemos que el valor p es muy cercano a 1, por lo que podemos aceptar la hipotesis nula, es decir, las medianas de las muestras no tendran una diferencia significativa.  "
      ],
      "metadata": {
        "id": "VQxToj56B1nm"
      }
    }
  ]
}