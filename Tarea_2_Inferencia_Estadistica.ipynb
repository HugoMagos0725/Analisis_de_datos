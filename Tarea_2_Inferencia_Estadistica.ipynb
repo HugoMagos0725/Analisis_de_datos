{
  "nbformat": 4,
  "nbformat_minor": 0,
  "metadata": {
    "colab": {
      "provenance": [],
      "authorship_tag": "ABX9TyO3M0EHyltF49veKE3QK/VV",
      "include_colab_link": true
    },
    "kernelspec": {
      "name": "python3",
      "display_name": "Python 3"
    },
    "language_info": {
      "name": "python"
    }
  },
  "cells": [
    {
      "cell_type": "markdown",
      "metadata": {
        "id": "view-in-github",
        "colab_type": "text"
      },
      "source": [
        "<a href=\"https://colab.research.google.com/github/HugoMagos0725/Analisis_de_datos/blob/main/Tarea_2_Inferencia_Estadistica.ipynb\" target=\"_parent\"><img src=\"https://colab.research.google.com/assets/colab-badge.svg\" alt=\"Open In Colab\"/></a>"
      ]
    },
    {
      "cell_type": "markdown",
      "source": [
        "**FCFM-BUAP, 2023**"
      ],
      "metadata": {
        "id": "p6Y5IdOcwsqj"
      }
    },
    {
      "cell_type": "markdown",
      "source": [
        "## Proyecto: Inferencia Estadistica\n",
        "Nombre: Hugo Cuautle Magos\n",
        "\n",
        "Matricula: 201847053\n",
        "\n",
        "Materia: Análisis de datos"
      ],
      "metadata": {
        "id": "j1sWWFYilK_V"
      }
    },
    {
      "cell_type": "markdown",
      "source": [
        "# Problema 1:\n",
        "\n",
        "Los siguientes datos\n"
      ],
      "metadata": {
        "id": "XvD6vJChkjev"
      }
    },
    {
      "cell_type": "code",
      "source": [
        "import numpy as np\n",
        "\n",
        "x = np.array([ 3.8058516 ,  4.19437519,  1.37709166,  0.77009889,  5.20968912,\n",
        "        0.65358179,  3.9701773 ,  2.07495512,  3.02571317,  3.1321825 ,\n",
        "        3.10005197,  4.94755324,  2.26160675,  0.59817735,  1.19183984,\n",
        "        1.37467926, -0.61701765,  5.01024433,  3.13300185,  5.2957513 ,\n",
        "        5.49070323, -1.13532482, -0.34934039,  5.72120588,  1.23276086,\n",
        "        4.33202401,  4.00250539, -0.40665993,  1.05709082,  3.68821387,\n",
        "        1.12295318,  2.10739471,  0.53197551, -0.27389039,  1.48139076,\n",
        "        0.70014346,  2.31649553,  2.44322569,  3.86141784,  2.04558533,\n",
        "        2.98230541,  3.69456416,  2.35192256,  0.11488102,  1.24948211,\n",
        "        2.34006925,  1.45962495, -0.09042347, -0.05130358,  1.15963357,\n",
        "        0.56871108,  2.70715761,  2.47673624,  1.70400014,  1.60709535,\n",
        "       -0.40534576,  3.07910114,  0.80967033,  5.04007949,  0.11755631,\n",
        "        1.427098  , -0.07170736,  5.11381387,  3.54324208,  4.39654794,\n",
        "        0.10687046,  2.89288521,  4.23476606,  1.54499074,  2.68598353,\n",
        "       -1.02087514,  1.9960533 ,  5.24364406,  3.2185187 , -0.38242978,\n",
        "        3.49462381,  1.06077727, -0.02623431,  3.92295454,  1.48746264,\n",
        "        2.74412523, -0.29060423,  3.915251  ,  3.13072888,  3.78471126,\n",
        "       -0.26904523,  0.66725871,  2.75931047,  2.09460576,  1.15288733,\n",
        "        3.08004069,  2.51581013,  1.88470954,  3.18040196,  0.85962888,\n",
        "       -0.2126045 ,  3.2505909 ,  2.7800464 ,  1.41144019,  2.71715232])"
      ],
      "metadata": {
        "id": "Jk8my-kjw1ZH"
      },
      "execution_count": 2,
      "outputs": []
    },
    {
      "cell_type": "markdown",
      "source": [
        "es una muestra de una distribución coseno:\n",
        "$$f(x)=C\\frac{1}{2\\pi}(1+\\cos(x/a-b))$$\n",
        "para $$-\\pi < x/a-b <\\pi$$ y donde C es una constante de normalización.\n",
        "\n",
        "\"a\" se conoce como la escala y \"b\" como la localización.\n",
        "\n",
        "Estima los parámetros \"a\" y \"b\" a partir de los datos y da un intervalo de confianza para ellos del 95%."
      ],
      "metadata": {
        "id": "EDn5cr8nw-hD"
      }
    },
    {
      "cell_type": "markdown",
      "source": [
        "#**Solucion**\n",
        "\n",
        "Primero veamos que el dominio de la función es $$-\\pi < x/a-b <\\pi $$\n",
        "    \n",
        "de esta forma: $$a(b-\\pi) < x < a(b+\\pi)$$\n",
        "\n",
        "Ahora veamos que $f(x)$ se trata de una función de densidad de probabilidad, así, se tiene que cumplir que \n",
        "\n",
        "$$\\int_{a(b-\\pi)}^{a(b+\\pi)}f(x)dx=1$$\n",
        "\n",
        "Por lo que:\n",
        "\n",
        "\\begin{equation}\n",
        "  \\begin{split}\n",
        "    1 & = \\int_{a(b-\\pi)}^{a(b+\\pi)}f(x)dx\\\\\n",
        "    & = \\int_{a(b-\\pi)}^{a(b+\\pi)}C\\frac{1}{2\\pi}(1+cos(x/a-b))dx \\\\\n",
        "    & = \\frac{C(asin(x/a-b)+x)}{2\\pi}\\Bigg |_{a(b-\\pi)}^{a(b+\\pi)}\\\\\n",
        "    & = \\frac{C(asin(a(\\pi+b)/a-b)+a(b+\\pi))}{2\\pi}-\\frac{C(asin(a(b-\\pi)/a-b)+a(b-\\pi))}{2\\pi}\\\\\n",
        "    & = \\frac{C(a(b-\\pi))}{2\\pi}-\\frac{C(a(b+\\pi))}{2\\pi}\\\\\n",
        "    & = \\frac{2Ca\\pi}{2\\pi}\\\\\n",
        "    & = Ca \n",
        "  \\end{split}\n",
        "\\end{equation}\n",
        "\n",
        "Por lo que $C= \\frac{1}{a}$\n",
        "\n",
        "Así, nos queda la función de probabilidad :\n",
        "\n",
        "$$f(x)=\\frac{1}{2a\\pi}(1+\\cos(x/a-b))$$"
      ],
      "metadata": {
        "id": "s8VzFjh9lkFR"
      }
    },
    {
      "cell_type": "code",
      "source": [],
      "metadata": {
        "id": "Gzc_4wAYld0L"
      },
      "execution_count": 9,
      "outputs": []
    },
    {
      "cell_type": "code",
      "source": [],
      "metadata": {
        "id": "HLUDKnltttNW"
      },
      "execution_count": 9,
      "outputs": []
    },
    {
      "cell_type": "markdown",
      "source": [
        "# Problema 2:\n",
        "\n",
        "Con la misma secuencia de datos del problema anterior x. I**magína que no conoces la distribución de donde proviene la muestra**. Estima el primer momento de la distribución $\\mu=\\bar{x}$ (promedio) y enstima el intervalo de confianza del 95%. "
      ],
      "metadata": {
        "id": "ZzNyWcN2xFnH"
      }
    },
    {
      "cell_type": "markdown",
      "source": [
        "# Problema 3:\n",
        "\n",
        "Supongamos que deseas analizar la diferencia en las calificaciones obtenidas por tres grupos de estudiantes en un examen de matemáticas. Los grupos son: \"Grupo A\", \"Grupo B\" y \"Grupo C\". Tienes los datos de las calificaciones obtenidas por cada estudiante en un archivo CSV llamado \"calificaciones.csv\". \n",
        "\n",
        "Haz una prueba Anova para ver si hay diferencia en calificaciones de los tres grupos."
      ],
      "metadata": {
        "id": "6Sn4j3pGxQIm"
      }
    },
    {
      "cell_type": "markdown",
      "source": [
        "# Problema 4:\n",
        "\n",
        "Supongamos que tienes dos grupos de datos: \"Grupo A\" y \"Grupo B\", y deseas determinar si hay una diferencia significativa entre las medianas de ambos grupos. No sabes si los datos provienene de distribución normal.\n",
        "\n",
        "a) Has una prueba gráfica y una prueba de hipótsis para saber si los datos tienen una distribución normal para ambos grupos.\n",
        "\n",
        "b) Emplea estadística no paramétrica para probar si hay diferencia significativa en la mediana entre ambos grupos.\n",
        "\n",
        "Los datos están en el archivo datos.csv"
      ],
      "metadata": {
        "id": "mZ1Y6Jj3xSai"
      }
    }
  ]
}