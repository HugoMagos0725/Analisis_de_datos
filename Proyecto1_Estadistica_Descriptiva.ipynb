{
  "nbformat": 4,
  "nbformat_minor": 0,
  "metadata": {
    "colab": {
      "provenance": [],
      "authorship_tag": "ABX9TyPxCvH1BuulSHCtElWsCdF5",
      "include_colab_link": true
    },
    "kernelspec": {
      "name": "python3",
      "display_name": "Python 3"
    },
    "language_info": {
      "name": "python"
    },
    "accelerator": "TPU",
    "gpuClass": "standard"
  },
  "cells": [
    {
      "cell_type": "markdown",
      "metadata": {
        "id": "view-in-github",
        "colab_type": "text"
      },
      "source": [
        "<a href=\"https://colab.research.google.com/github/HugoMagos0725/Analisis_de_datos/blob/main/Proyecto1_Estadistica_Descriptiva.ipynb\" target=\"_parent\"><img src=\"https://colab.research.google.com/assets/colab-badge.svg\" alt=\"Open In Colab\"/></a>"
      ]
    },
    {
      "cell_type": "markdown",
      "source": [
        "**FCFM-BUAP, 2023**"
      ],
      "metadata": {
        "id": "FBG4Wqbt7-l5"
      }
    },
    {
      "cell_type": "markdown",
      "source": [
        "## Proyecto: Estadistica Descriptiva\n",
        "\n",
        "Nombre: Hugo Cuautle Magos\n",
        "\n",
        "Matricula: 201847053 "
      ],
      "metadata": {
        "id": "bdyVT40Y72Xq"
      }
    },
    {
      "cell_type": "code",
      "execution_count": 1,
      "metadata": {
        "colab": {
          "base_uri": "https://localhost:8080/"
        },
        "id": "znqwb6TViOG-",
        "outputId": "66ee890e-f000-47e5-8c7f-47e74fe2fbf0"
      },
      "outputs": [
        {
          "output_type": "stream",
          "name": "stdout",
          "text": [
            "Mounted at /content/drive\n"
          ]
        }
      ],
      "source": [
        "import numpy as np \n",
        "import pandas as pd\n",
        "import matplotlib.pyplot as plt\n",
        "\n",
        "from google.colab import drive\n",
        "drive.mount('/content/drive')"
      ]
    },
    {
      "cell_type": "code",
      "source": [
        "df=pd.read_excel('/content/drive/MyDrive/capturas_2015-2020.xlsx',sheet_name=None)\n",
        "df"
      ],
      "metadata": {
        "colab": {
          "base_uri": "https://localhost:8080/"
        },
        "id": "2vjCcJgNkqkh",
        "outputId": "7fcbeb74-3fcd-4e5c-a00b-39ee8d32348f"
      },
      "execution_count": 2,
      "outputs": [
        {
          "output_type": "execute_result",
          "data": {
            "text/plain": [
              "{'2015':             Fecha   Latitud  Longitud                  Ubicacion Municipio  \\\n",
              " 0      2015-01-22  24.11564 -99.03734  177_THUE05-28-030-0415T01   PADILLA   \n",
              " 1      2015-01-29  24.11564 -99.03734  177_THUE05-28-030-0415T01   PADILLA   \n",
              " 2      2015-01-29  24.11562 -99.03560  177_THUE05-28-030-0415T02   PADILLA   \n",
              " 3      2015-01-22  24.11562 -99.03560  177_THUE05-28-030-0415T02   PADILLA   \n",
              " 4      2015-01-29  24.11726 -99.03528  177_THUE05-28-030-0415T03   PADILLA   \n",
              " ...           ...       ...       ...                        ...       ...   \n",
              " 421355 2015-12-25  24.05003 -98.88733  177_THUE05-28-030-0700T17   PADILLA   \n",
              " 421356 2015-12-18  24.04981 -98.88465  177_THUE05-28-030-0700T18   PADILLA   \n",
              " 421357 2015-12-25  24.04981 -98.88465  177_THUE05-28-030-0700T18   PADILLA   \n",
              " 421358 2015-12-11  24.04981 -98.88465  177_THUE05-28-030-0700T18   PADILLA   \n",
              " 421359 2015-12-04  24.04981 -98.88465  177_THUE05-28-030-0700T18   PADILLA   \n",
              " \n",
              "                  Comunidad                  Productor  Cultivo  \\\n",
              " 0       Ej. Marte R. Gomez  MARTINEZ_ZAMBRANO_ROBERTA    LIMÓN   \n",
              " 1       Ej. Marte R. Gomez  MARTINEZ_ZAMBRANO_ROBERTA    LIMÓN   \n",
              " 2       Ej. Marte R. Gomez  MARTINEZ_ZAMBRANO_ROBERTA    LIMÓN   \n",
              " 3       Ej. Marte R. Gomez  MARTINEZ_ZAMBRANO_ROBERTA    LIMÓN   \n",
              " 4       Ej. Marte R. Gomez  MARTINEZ_ZAMBRANO_ROBERTA    LIMÓN   \n",
              " ...                    ...                        ...      ...   \n",
              " 421355             padilla   MARTINEZ_BROHEZ_FEDERICO  NARANJA   \n",
              " 421356             padilla   MARTINEZ_BROHEZ_FEDERICO  NARANJA   \n",
              " 421357             padilla   MARTINEZ_BROHEZ_FEDERICO  NARANJA   \n",
              " 421358             padilla   MARTINEZ_BROHEZ_FEDERICO  NARANJA   \n",
              " 421359             padilla   MARTINEZ_BROHEZ_FEDERICO  NARANJA   \n",
              " \n",
              "                        Fenologia  Superficie_ha  No_Trampas_Instaladas  \\\n",
              " 0       DESARROLLO (crecimiento)           25.0                    0.0   \n",
              " 1       DESARROLLO (crecimiento)           25.0                    1.0   \n",
              " 2       DESARROLLO (crecimiento)            0.0                    1.0   \n",
              " 3       DESARROLLO (crecimiento)            0.0                    0.0   \n",
              " 4       DESARROLLO (crecimiento)            0.0                    1.0   \n",
              " ...                          ...            ...                    ...   \n",
              " 421355            FRUCTIFICACIÓN            0.0                    0.0   \n",
              " 421356  DESARROLLO (crecimiento)            0.0                    0.0   \n",
              " 421357            FRUCTIFICACIÓN            0.0                    0.0   \n",
              " 421358  DESARROLLO (crecimiento)            0.0                    0.0   \n",
              " 421359  DESARROLLO (crecimiento)            0.0                    0.0   \n",
              " \n",
              "         No_Trampas_Revisadas  No_DiaphorinasXtrampa   Mes  Semana  \n",
              " 0                        1.0                    0.0   1.0     4.0  \n",
              " 1                        1.0                    0.0   1.0     5.0  \n",
              " 2                        1.0                    0.0   1.0     5.0  \n",
              " 3                        1.0                    0.0   1.0     4.0  \n",
              " 4                        1.0                    0.0   1.0     5.0  \n",
              " ...                      ...                    ...   ...     ...  \n",
              " 421355                   1.0                    0.0  12.0    52.0  \n",
              " 421356                   0.0                    0.0  12.0    51.0  \n",
              " 421357                   1.0                    0.0  12.0    52.0  \n",
              " 421358                   0.0                    0.0  12.0    50.0  \n",
              " 421359                   0.0                    0.0  12.0    49.0  \n",
              " \n",
              " [421360 rows x 15 columns],\n",
              " '2016':             Fecha   Latitud  Longitud                  Ubicacion Municipio  \\\n",
              " 0      2016-01-04  23.31379 -98.95510  177_THUE05-28-019-0030T15     LLERA   \n",
              " 1      2016-01-04  23.27431 -98.86220  177_THUE05-28-019-0089T03     LLERA   \n",
              " 2      2016-01-04  23.31596 -98.95559  177_THUE05-28-019-0030T05     LLERA   \n",
              " 3      2016-01-04  23.27890 -98.87410  177_THUE05-28-019-0098T03     LLERA   \n",
              " 4      2016-01-04  23.27791 -98.87282  177_THUE05-28-019-0098T06     LLERA   \n",
              " ...           ...       ...       ...                        ...       ...   \n",
              " 475362 2015-01-02  23.26057 -98.83597  177_THUE05-28-019-0022T07     LLERA   \n",
              " 475363 2015-01-16  23.26172 -98.83630  177_THUE05-28-019-0022T08     LLERA   \n",
              " 475364 2015-01-16  23.26294 -98.83689  177_THUE05-28-019-0022T09     LLERA   \n",
              " 475365 2015-01-16  23.26218 -98.83819  177_THUE05-28-019-0022T10     LLERA   \n",
              " 475366 2015-01-20  23.26218 -98.83819  177_THUE05-28-019-0022T10     LLERA   \n",
              " \n",
              "                       Comunidad                  Productor  Cultivo  \\\n",
              " 0       EJIDO_PEDRO_JOSE_MENDEZ         MANCILLA_ZEFERINO   NARANJA   \n",
              " 1              EJIDO_COMPUERTAS              VARGAS_OSCAR   NARANJA   \n",
              " 2       EJIDO_PEDRO_JOSE_MENDEZ         MANCILLA_ZEFERINO   NARANJA   \n",
              " 3              EJIDO_COMPUERTAS    VAZQUEZ_CAMACHO_PAULINO  NARANJA   \n",
              " 4              EJIDO_COMPUERTAS    VAZQUEZ_CAMACHO_PAULINO  NARANJA   \n",
              " ...                         ...                        ...      ...   \n",
              " 475362      EJIDO_LA_CLEMENTINA  FLORES_RODRIGUEZ_GILBERTO  NARANJA   \n",
              " 475363      EJIDO_LA_CLEMENTINA  FLORES_RODRIGUEZ_GILBERTO  NARANJA   \n",
              " 475364      EJIDO_LA_CLEMENTINA  FLORES_RODRIGUEZ_GILBERTO  NARANJA   \n",
              " 475365      EJIDO_LA_CLEMENTINA  FLORES_RODRIGUEZ_GILBERTO  NARANJA   \n",
              " 475366      EJIDO_LA_CLEMENTINA  FLORES_RODRIGUEZ_GILBERTO  NARANJA   \n",
              " \n",
              "                        Fenologia  Superficie_ha  No_Trampas_Instaladas  \\\n",
              " 0       DESARROLLO (crecimiento)            0.0                      0   \n",
              " 1       DESARROLLO (crecimiento)            0.0                      0   \n",
              " 2       DESARROLLO (crecimiento)            0.0                      0   \n",
              " 3       DESARROLLO (crecimiento)            0.0                      0   \n",
              " 4       DESARROLLO (crecimiento)            0.0                      0   \n",
              " ...                          ...            ...                    ...   \n",
              " 475362            FRUCTIFICACIÓN            0.0                      0   \n",
              " 475363  DESARROLLO (crecimiento)            0.0                      0   \n",
              " 475364  DESARROLLO (crecimiento)            0.0                      0   \n",
              " 475365  DESARROLLO (crecimiento)            0.0                      0   \n",
              " 475366            FRUCTIFICACIÓN            0.0                      0   \n",
              " \n",
              "         No_Trampas_Revisadas  No_DiaphorinasXtrampa  Mes  Semana  \n",
              " 0                          0                      0    1       1  \n",
              " 1                          0                      0    1       1  \n",
              " 2                          0                      0    1       1  \n",
              " 3                          0                      0    1       1  \n",
              " 4                          0                      0    1       1  \n",
              " ...                      ...                    ...  ...     ...  \n",
              " 475362                     1                      0    1       1  \n",
              " 475363                     0                      0    1       3  \n",
              " 475364                     0                      0    1       3  \n",
              " 475365                     0                      0    1       3  \n",
              " 475366                     1                      0    1       4  \n",
              " \n",
              " [475367 rows x 15 columns],\n",
              " '2016 programa':             Fecha   Latitud  Longitud                  Ubicacion Municipio  \\\n",
              " 0      2016-05-09  23.96772 -99.08186  177_THUE05-28-013-0374T01    GUEMEZ   \n",
              " 1      2016-05-09  23.95785 -99.08237  177_THUE05-28-013-0375T18    GUEMEZ   \n",
              " 2      2016-05-09  23.96606 -99.08173  177_THUE05-28-013-0374T17    GUEMEZ   \n",
              " 3      2016-05-09  23.95623 -99.08213  177_THUE05-28-013-0375T17    GUEMEZ   \n",
              " 4      2016-05-09  23.96739 -99.08592  177_THUE05-28-013-0375T31    GUEMEZ   \n",
              " ...           ...       ...       ...                        ...       ...   \n",
              " 122765 2016-12-30  24.11650 -99.11268  177_THUE05-28-030-0916T16   PADILLA   \n",
              " 122766 2016-12-30  24.09393 -99.12259  177_THUE05-28-030-0917T03   PADILLA   \n",
              " 122767 2016-12-30  24.10571 -99.11734  177_THUE05-28-030-0918T10   PADILLA   \n",
              " 122768 2016-12-30  24.12357 -99.09347  177_THUE05-28-030-0924T03   PADILLA   \n",
              " 122769 2016-12-30  24.11034 -99.11653  177_THUE05-28-030-0919T03   PADILLA   \n",
              " \n",
              "                           Comunidad                              Productor  \\\n",
              " 0                    EJIDO_PROGRESO                 GREGORIO URIBE ESCOBAR   \n",
              " 1                    EJIDO_PROGRESO                   JUAN DOMINGUEZ PEREZ   \n",
              " 2                    EJIDO_PROGRESO                 GREGORIO URIBE ESCOBAR   \n",
              " 3                    EJIDO_PROGRESO                   JUAN DOMINGUEZ PEREZ   \n",
              " 4                    EJIDO_PROGRESO                   JUAN DOMINGUEZ PEREZ   \n",
              " ...                             ...                                    ...   \n",
              " 122765  EJIDO_MARTIRES_DE_CHINAMECA  MARIA DE LOS ANGELES ESPINOZA CARREON   \n",
              " 122766  EJIDO_MARTIRES_DE_CHINAMECA                ROGELIO RAMOS CERVANTES   \n",
              " 122767  EJIDO_MARTIRES_DE_CHINAMECA                ALBERTINA TORRES ZAPATA   \n",
              " 122768  EJIDO_MARTIRES_DE_CHINAMECA                SERGIO LUIS MOYA GARCIA   \n",
              " 122769  EJIDO_MARTIRES_DE_CHINAMECA             ANTEMIO ESPIRICUETA CUEVAS   \n",
              " \n",
              "         Cultivo       Fenologia  Superficie_ha  No_Trampas_Instaladas  \\\n",
              " 0       NARANJA  FRUCTIFICACIÓN           28.0                      0   \n",
              " 1       NARANJA  FRUCTIFICACIÓN            0.0                      0   \n",
              " 2       NARANJA  FRUCTIFICACIÓN            0.0                      0   \n",
              " 3       NARANJA  FRUCTIFICACIÓN            0.0                      0   \n",
              " 4       NARANJA  FRUCTIFICACIÓN            0.0                      0   \n",
              " ...         ...             ...            ...                    ...   \n",
              " 122765  NARANJA  FRUCTIFICACIÓN            0.0                      0   \n",
              " 122766  NARANJA  FRUCTIFICACIÓN            0.0                      0   \n",
              " 122767  NARANJA  FRUCTIFICACIÓN            0.0                      0   \n",
              " 122768  NARANJA  FRUCTIFICACIÓN            0.0                      0   \n",
              " 122769  NARANJA  FRUCTIFICACIÓN            0.0                      0   \n",
              " \n",
              "         No_Trampas_Revisadas  No_DiaphorinasXtrampa  Mes  Semana  \n",
              " 0                          1                      0    5      19  \n",
              " 1                          1                      0    5      19  \n",
              " 2                          1                      0    5      19  \n",
              " 3                          1                      0    5      19  \n",
              " 4                          1                      0    5      19  \n",
              " ...                      ...                    ...  ...     ...  \n",
              " 122765                     1                      0   12      52  \n",
              " 122766                     1                      0   12      52  \n",
              " 122767                     1                      0   12      52  \n",
              " 122768                     1                      0   12      52  \n",
              " 122769                     1                      0   12      52  \n",
              " \n",
              " [122770 rows x 15 columns],\n",
              " '2017':            Fecha   Latitud  Longitud                  Ubicacion Municipio  \\\n",
              " 0     2017-05-24  23.88426 -99.19092  177_THUE05-28-041-0143T02  VICTORIA   \n",
              " 1     2017-05-10  23.88426 -99.19092  177_THUE05-28-041-0143T02  VICTORIA   \n",
              " 2     2017-06-07  23.88426 -99.19092  177_THUE05-28-041-0143T02  VICTORIA   \n",
              " 3     2017-04-12  23.88426 -99.19092  177_THUE05-28-041-0143T02  VICTORIA   \n",
              " 4     2017-01-18  23.88426 -99.19092  177_THUE05-28-041-0143T02  VICTORIA   \n",
              " ...          ...       ...       ...                        ...       ...   \n",
              " 90154 2017-05-22  24.00865 -99.24894  177_THUE05-28-013-0649T20    GUEMEZ   \n",
              " 90155 2017-06-05  24.00865 -99.24894  177_THUE05-28-013-0649T20    GUEMEZ   \n",
              " 90156 2017-04-24  24.00865 -99.24894  177_THUE05-28-013-0649T20    GUEMEZ   \n",
              " 90157 2017-01-30  24.00865 -99.24894  177_THUE05-28-013-0649T20    GUEMEZ   \n",
              " 90158 2017-01-16  24.00865 -99.24894  177_THUE05-28-013-0649T20    GUEMEZ   \n",
              " \n",
              "              Comunidad                  Productor  Cultivo       Fenologia  \\\n",
              " 0      HUERTA SANTA FE     SILVIA MONTELONGO CANO  NARANJA  FRUCTIFICACIÓN   \n",
              " 1      HUERTA SANTA FE     SILVIA MONTELONGO CANO  NARANJA  FRUCTIFICACIÓN   \n",
              " 2      HUERTA SANTA FE     SILVIA MONTELONGO CANO  NARANJA  FRUCTIFICACIÓN   \n",
              " 3      HUERTA SANTA FE     SILVIA MONTELONGO CANO  NARANJA  FRUCTIFICACIÓN   \n",
              " 4      HUERTA SANTA FE     SILVIA MONTELONGO CANO  NARANJA       DORMANCIA   \n",
              " ...                ...                        ...      ...             ...   \n",
              " 90154    EJIDO_EL_ARCO  EUSTOLIO MARTINEZ SANCHEZ  NARANJA  FRUCTIFICACIÓN   \n",
              " 90155    EJIDO_EL_ARCO  EUSTOLIO MARTINEZ SANCHEZ  NARANJA  FRUCTIFICACIÓN   \n",
              " 90156    EJIDO_EL_ARCO  EUSTOLIO MARTINEZ SANCHEZ  NARANJA  FRUCTIFICACIÓN   \n",
              " 90157    EJIDO_EL_ARCO  EUSTOLIO MARTINEZ SANCHEZ  NARANJA  FRUCTIFICACIÓN   \n",
              " 90158    EJIDO_EL_ARCO  EUSTOLIO MARTINEZ SANCHEZ  NARANJA  FRUCTIFICACIÓN   \n",
              " \n",
              "        Superficie_ha  No_Trampas_Instaladas  No_Trampas_Revisadas  \\\n",
              " 0                0.0                      0                     1   \n",
              " 1                0.0                      0                     1   \n",
              " 2                0.0                      0                     1   \n",
              " 3                0.0                      0                     1   \n",
              " 4                0.0                      0                     1   \n",
              " ...              ...                    ...                   ...   \n",
              " 90154            0.0                      0                     1   \n",
              " 90155            0.0                      0                     1   \n",
              " 90156            0.0                      0                     1   \n",
              " 90157            0.0                      0                     1   \n",
              " 90158            0.0                      0                     1   \n",
              " \n",
              "        No_DiaphorinasXtrampa  Mes  Semana  \n",
              " 0                          0    5      21  \n",
              " 1                          0    5      19  \n",
              " 2                          3    6      23  \n",
              " 3                          0    4      15  \n",
              " 4                          0    1       3  \n",
              " ...                      ...  ...     ...  \n",
              " 90154                      0    5      21  \n",
              " 90155                      2    6      23  \n",
              " 90156                      0    4      17  \n",
              " 90157                      0    2       5  \n",
              " 90158                      0    1       3  \n",
              " \n",
              " [90159 rows x 15 columns],\n",
              " '2018':             fecha   ano  semana                   name_thue    latitud  \\\n",
              " 0      2018-01-03  2018       1  177_THUE05-28-013-0639T001  23.920757   \n",
              " 1      2018-01-03  2018       1  177_THUE05-28-013-0639T002  23.920738   \n",
              " 2      2018-01-03  2018       1  177_THUE05-28-013-0639T003  23.920712   \n",
              " 3      2018-01-03  2018       1  177_THUE05-28-013-0639T004  23.920694   \n",
              " 4      2018-01-03  2018       1  177_THUE05-28-013-0639T005  23.920660   \n",
              " ...           ...   ...     ...                         ...        ...   \n",
              " 113495 2018-12-31  2018      53  177_THUE05-28-041-0164T016  23.785376   \n",
              " 113496 2018-12-31  2018      53  177_THUE05-28-041-0164T017  23.785467   \n",
              " 113497 2018-12-31  2018      53  177_THUE05-28-041-0164T018  23.785597   \n",
              " 113498 2018-12-31  2018      53  177_THUE05-28-041-0164T019  23.785662   \n",
              " 113499 2018-12-31  2018      53  177_THUE05-28-041-0164T020  23.785769   \n",
              " \n",
              "          longitud       fenologia Revisada  captura                campo  \\\n",
              " 0      -99.108700  FRUCTIFICACION       Si      0.0  HUERTA SANTA MARTHA   \n",
              " 1      -99.108536  FRUCTIFICACION       Si      0.0  HUERTA SANTA MARTHA   \n",
              " 2      -99.108370  FRUCTIFICACION       Si      0.0  HUERTA SANTA MARTHA   \n",
              " 3      -99.108220  FRUCTIFICACION       Si      0.0  HUERTA SANTA MARTHA   \n",
              " 4      -99.108055  FRUCTIFICACION       Si      0.0  HUERTA SANTA MARTHA   \n",
              " ...           ...             ...      ...      ...                  ...   \n",
              " 113495 -99.065956       DORMANCIA       Si      1.0     HUERTA EL ENCINO   \n",
              " 113496 -99.065810       DORMANCIA       Si      0.0     HUERTA EL ENCINO   \n",
              " 113497 -99.065680       DORMANCIA       Si      1.0     HUERTA EL ENCINO   \n",
              " 113498 -99.065580       DORMANCIA       Si      0.0     HUERTA EL ENCINO   \n",
              " 113499 -99.065475       DORMANCIA       Si      0.0     HUERTA EL ENCINO   \n",
              " \n",
              "         superficie  \n",
              " 0             26.0  \n",
              " 1              0.0  \n",
              " 2              0.0  \n",
              " 3              0.0  \n",
              " 4              0.0  \n",
              " ...            ...  \n",
              " 113495         0.0  \n",
              " 113496         0.0  \n",
              " 113497         0.0  \n",
              " 113498         0.0  \n",
              " 113499         0.0  \n",
              " \n",
              " [113500 rows x 11 columns],\n",
              " '2019':              Fecha              Ubicacion   Latitud  Longitud  \\\n",
              " 0       16/01/2019  THUE05/28-019/2953T06  23.29010 -98.86182   \n",
              " 1       13/02/2019  THUE05/28-019/2953T09  23.28970 -98.86197   \n",
              " 2       13/02/2019  THUE05/28-019/2953T02  23.29060 -98.86144   \n",
              " 3       13/02/2019  THUE05/28-019/2953T15  23.28952 -98.86261   \n",
              " 4       13/02/2019  THUE05/28-019/2953T10  23.28956 -98.86204   \n",
              " ...            ...                    ...       ...       ...   \n",
              " 107742  25/09/2019  THUE05/28-019/2966T04  23.32140 -98.93210   \n",
              " 107743  25/09/2019  THUE05/28-019/2966T03  23.32150 -98.93210   \n",
              " 107744  25/09/2019  THUE05/28-019/2966T10  23.32060 -98.93230   \n",
              " 107745  25/09/2019  THUE05/28-019/2966T15  23.32060 -98.93280   \n",
              " 107746  25/09/2019  THUE05/28-019/2966T08  23.32090 -98.93220   \n",
              " \n",
              "                     Productor Municipio                Localidad  Cultivo  \\\n",
              " 0       ONESIMO OLVERA ZUÑIGA     LLERA         EJIDO COMPUERTAS  NARANJA   \n",
              " 1       ONESIMO OLVERA ZUÑIGA     LLERA         EJIDO COMPUERTAS  NARANJA   \n",
              " 2       ONESIMO OLVERA ZUÑIGA     LLERA         EJIDO COMPUERTAS  NARANJA   \n",
              " 3       ONESIMO OLVERA ZUÑIGA     LLERA         EJIDO COMPUERTAS  NARANJA   \n",
              " 4       ONESIMO OLVERA ZUÑIGA     LLERA         EJIDO COMPUERTAS  NARANJA   \n",
              " ...                       ...       ...                      ...      ...   \n",
              " 107742  CARMEN ALCOCER CAMPOS     LLERA  EJIDO_PEDRO_JOSE_MENDEZ  NARANJA   \n",
              " 107743  CARMEN ALCOCER CAMPOS     LLERA  EJIDO_PEDRO_JOSE_MENDEZ  NARANJA   \n",
              " 107744  CARMEN ALCOCER CAMPOS     LLERA  EJIDO_PEDRO_JOSE_MENDEZ  NARANJA   \n",
              " 107745  CARMEN ALCOCER CAMPOS     LLERA  EJIDO_PEDRO_JOSE_MENDEZ  NARANJA   \n",
              " 107746  CARMEN ALCOCER CAMPOS     LLERA  EJIDO_PEDRO_JOSE_MENDEZ  NARANJA   \n",
              " \n",
              "         Superficie  NoTrampasInst  ...  Adultos_Brote_2  Ninfas_Brote_2  \\\n",
              " 0              0.0              0  ...              0.0             0.0   \n",
              " 1              0.0              0  ...              0.0             0.0   \n",
              " 2              0.0              0  ...              0.0             0.0   \n",
              " 3              0.0              0  ...              0.0             0.0   \n",
              " 4              0.0              0  ...              0.0             0.0   \n",
              " ...            ...            ...  ...              ...             ...   \n",
              " 107742         0.0              0  ...              0.0             0.0   \n",
              " 107743         0.0              0  ...              0.0             0.0   \n",
              " 107744         0.0              0  ...              0.0             0.0   \n",
              " 107745         0.0              0  ...              0.0             0.0   \n",
              " 107746         0.0              0  ...              0.0             1.0   \n",
              " \n",
              "        Fenologia_Brote_3  Adultos_Brote_3  Ninfas_Brote_3 Fenologia_Brote_4  \\\n",
              " 0                    NaN              0.0             0.0               NaN   \n",
              " 1                    NaN              0.0             0.0               NaN   \n",
              " 2                    NaN              0.0             0.0               NaN   \n",
              " 3                    NaN              0.0             0.0               NaN   \n",
              " 4                    NaN              0.0             0.0               NaN   \n",
              " ...                  ...              ...             ...               ...   \n",
              " 107742                V2              0.0             0.0                V2   \n",
              " 107743                V2              0.0             0.0                V2   \n",
              " 107744                V2              0.0             0.0                V2   \n",
              " 107745                V2              0.0             0.0                V2   \n",
              " 107746                V2              0.0             0.0                V2   \n",
              " \n",
              "         Adultos_Brote_4  Ninfas_Brote_4 Mes  Semana  \n",
              " 0                   0.0             0.0   1       3  \n",
              " 1                   0.0             0.0   2       7  \n",
              " 2                   0.0             0.0   2       7  \n",
              " 3                   0.0             0.0   2       7  \n",
              " 4                   0.0             0.0   2       7  \n",
              " ...                 ...             ...  ..     ...  \n",
              " 107742              0.0             0.0   9      39  \n",
              " 107743              0.0             0.0   9      39  \n",
              " 107744              0.0             0.0   9      39  \n",
              " 107745              0.0             0.0   9      39  \n",
              " 107746              0.0             1.0   9      39  \n",
              " \n",
              " [107747 rows x 26 columns],\n",
              " '2020':              Fecha              Ubicacion   Latitud  Longitud  \\\n",
              " 0       02/01/2020  THUE05/28-019/2974T06  23.25613 -98.82374   \n",
              " 1       16/01/2020  THUE05/28-019/2974T06  23.25613 -98.82374   \n",
              " 2       02/01/2020  THUE05/28-019/2974T11  23.25575 -98.82317   \n",
              " 3       16/01/2020  THUE05/28-019/2974T02  23.25653 -98.82423   \n",
              " 4       16/01/2020  THUE05/28-019/2974T17  23.25618 -98.82309   \n",
              " ...            ...                    ...       ...       ...   \n",
              " 103045  18/12/2020  THUE05/28-019/2975T20  23.30619 -98.98095   \n",
              " 103046  18/12/2020  THUE05/28-019/2975T18  23.30620 -98.98070   \n",
              " 103047  18/12/2020  THUE05/28-019/2975T03  23.30777 -98.98018   \n",
              " 103048  18/12/2020  THUE05/28-019/2975T05  23.30755 -98.98021   \n",
              " 103049  18/12/2020  THUE05/28-019/2975T01  23.30794 -98.98014   \n",
              " \n",
              "                      Productor Municipio                  Localidad  Cultivo  \\\n",
              " 0       PALMIRA CASTRO ALVAREZ     LLERA  EJIDO JOSE SILVA SANCHEZ.  NARANJA   \n",
              " 1       PALMIRA CASTRO ALVAREZ     LLERA  EJIDO JOSE SILVA SANCHEZ.  NARANJA   \n",
              " 2       PALMIRA CASTRO ALVAREZ     LLERA  EJIDO JOSE SILVA SANCHEZ.  NARANJA   \n",
              " 3       PALMIRA CASTRO ALVAREZ     LLERA  EJIDO JOSE SILVA SANCHEZ.  NARANJA   \n",
              " 4       PALMIRA CASTRO ALVAREZ     LLERA  EJIDO JOSE SILVA SANCHEZ.  NARANJA   \n",
              " ...                        ...       ...                        ...      ...   \n",
              " 103045    GILBERTO TOVAR LOPEZ     LLERA           EJIDO SAN RAFAEL  NARANJA   \n",
              " 103046    GILBERTO TOVAR LOPEZ     LLERA           EJIDO SAN RAFAEL  NARANJA   \n",
              " 103047    GILBERTO TOVAR LOPEZ     LLERA           EJIDO SAN RAFAEL  NARANJA   \n",
              " 103048    GILBERTO TOVAR LOPEZ     LLERA           EJIDO SAN RAFAEL  NARANJA   \n",
              " 103049    GILBERTO TOVAR LOPEZ     LLERA           EJIDO SAN RAFAEL  NARANJA   \n",
              " \n",
              "         Variedad  noProductores  ...  Ninfas_Brote_2  Fenologia_Brote_3  \\\n",
              " 0       VALENCIA              1  ...               0                 V6   \n",
              " 1       VALENCIA              1  ...               0                 V5   \n",
              " 2       VALENCIA              1  ...               0                 V6   \n",
              " 3       VALENCIA              1  ...               0                 V5   \n",
              " 4       VALENCIA              1  ...               0                 V5   \n",
              " ...          ...            ...  ...             ...                ...   \n",
              " 103045  VALENCIA              1  ...               0                 V6   \n",
              " 103046  VALENCIA              1  ...               0                 V6   \n",
              " 103047  VALENCIA              1  ...               0                 V6   \n",
              " 103048  VALENCIA              1  ...               0                 V5   \n",
              " 103049  VALENCIA              1  ...               0                 V5   \n",
              " \n",
              "         Adultos_Brote_3  Ninfas_Brote_3  Fenologia_Brote_4  Adultos_Brote_4  \\\n",
              " 0                     0               0                 V5                0   \n",
              " 1                     0               0                 V4                0   \n",
              " 2                     1               0                 V5                1   \n",
              " 3                     0               0                 V4                0   \n",
              " 4                     0               0                 V5                1   \n",
              " ...                 ...             ...                ...              ...   \n",
              " 103045                0               0                 V6                0   \n",
              " 103046                0               0                 V6                0   \n",
              " 103047                0               0                 V5                0   \n",
              " 103048                0               0                 V4                0   \n",
              " 103049                0               0                 V5                0   \n",
              " \n",
              "        Ninfas_Brote_4  Mes  Semana                  Tecnico  \n",
              " 0                   0    1       1  GERARDO GUEVARA SANCHEZ  \n",
              " 1                   0    1       3  GERARDO GUEVARA SANCHEZ  \n",
              " 2                   0    1       1  GERARDO GUEVARA SANCHEZ  \n",
              " 3                   0    1       3  GERARDO GUEVARA SANCHEZ  \n",
              " 4                   0    1       3  GERARDO GUEVARA SANCHEZ  \n",
              " ...               ...  ...     ...                      ...  \n",
              " 103045              0   12      51          TOMAS RUIZ RUIZ  \n",
              " 103046              0   12      51          TOMAS RUIZ RUIZ  \n",
              " 103047              0   12      51          TOMAS RUIZ RUIZ  \n",
              " 103048              0   12      51          TOMAS RUIZ RUIZ  \n",
              " 103049              0   12      51          TOMAS RUIZ RUIZ  \n",
              " \n",
              " [103050 rows x 31 columns]}"
            ]
          },
          "metadata": {},
          "execution_count": 2
        }
      ]
    },
    {
      "cell_type": "markdown",
      "source": [
        "## Problema 1\n",
        "\n",
        "Hacer una gráfica del promedio de Diaphorinas por trampa para cada mes de los  años 2015, 2017, 2020. Es decir una gráfica por cada año donde el eje horizontal esté el mes y el vertical el promedio de diaphorinas por trampa."
      ],
      "metadata": {
        "id": "cb-obpGU8G_l"
      }
    },
    {
      "cell_type": "code",
      "source": [
        "def promedio(x,year):\n",
        "  r=x.groupby('Mes')['No_DiaphorinasXtrampa'].mean()\n",
        "  r.index=['Enero','Febrero','Marzo','Abril','Mayo','Junio','Julio','Agosto','Septiembre','Octubre','Noviembre','Diciembre']\n",
        "  fig, axes =plt.subplots(1,figsize=(20,5))\n",
        "  plt.bar(r.index, r.values)\n",
        "  year= 'Grafica del año ' + str(year)\n",
        "  plt.xlabel('Mes')\n",
        "  plt.ylabel('Promedio de Diphorinas por trampa')\n",
        "  plt.suptitle(year)\n",
        "  plt.show()\n",
        "  print()\n",
        "\n",
        "promedio(df['2015'],2015)\n",
        "promedio(df['2017'],2017)\n",
        "\n",
        "df['2020']=df['2020'].rename(columns={'DiaphorinaXTrampa':'No_DiaphorinasXtrampa'})\n",
        "promedio(df['2020'],2020)"
      ],
      "metadata": {
        "id": "I9MDa6bg7NS_",
        "colab": {
          "base_uri": "https://localhost:8080/",
          "height": 1000
        },
        "outputId": "204ab2c1-85d4-42db-b89b-584b696ced15"
      },
      "execution_count": 165,
      "outputs": [
        {
          "output_type": "display_data",
          "data": {
            "text/plain": [
              "<Figure size 1440x360 with 1 Axes>"
            ],
            "image/png": "[encoded data removed]"
          },
          "metadata": {
            "needs_background": "light"
          }
        },
        {
          "output_type": "stream",
          "name": "stdout",
          "text": [
            "\n"
          ]
        },
        {
          "output_type": "display_data",
          "data": {
            "text/plain": [
              "<Figure size 1440x360 with 1 Axes>"
            ],
            "image/png": "[encoded data removed]"
          },
          "metadata": {
            "needs_background": "light"
          }
        },
        {
          "output_type": "stream",
          "name": "stdout",
          "text": [
            "\n"
          ]
        },
        {
          "output_type": "display_data",
          "data": {
            "text/plain": [
              "<Figure size 1440x360 with 1 Axes>"
            ],
            "image/png": "[encoded data removed]"
          },
          "metadata": {
            "needs_background": "light"
          }
        },
        {
          "output_type": "stream",
          "name": "stdout",
          "text": [
            "\n"
          ]
        }
      ]
    },
    {
      "cell_type": "markdown",
      "source": [
        "## Problema 2\n",
        "\n",
        "Hacer una gráfica del promedio de Diaphorinas por trampa para cada mes del año 2020 pero sólo por un municipio "
      ],
      "metadata": {
        "id": "IkIvV7tQPrO7"
      }
    },
    {
      "cell_type": "code",
      "source": [
        "df1=df['2020'].set_index('Municipio').loc['LLERA']\n",
        "print(df1.groupby(['Mes']).mean()['No_DiaphorinasXtrampa'])\n",
        "promedio(df1,'2020 del municipio de LLERA' )"
      ],
      "metadata": {
        "id": "l94IX3kWaEIi",
        "colab": {
          "base_uri": "https://localhost:8080/",
          "height": 630
        },
        "outputId": "c3f40477-4060-4472-989b-65951bda6d68"
      },
      "execution_count": 268,
      "outputs": [
        {
          "output_type": "stream",
          "name": "stdout",
          "text": [
            "Mes\n",
            "1     0.575518\n",
            "2     1.302721\n",
            "3     0.707447\n",
            "4     0.386850\n",
            "5     0.320827\n",
            "6     0.247656\n",
            "7          NaN\n",
            "8     0.434690\n",
            "9     0.349813\n",
            "10    0.332610\n",
            "11    0.731200\n",
            "12    1.585185\n",
            "Name: No_DiaphorinasXtrampa, dtype: float64\n"
          ]
        },
        {
          "output_type": "display_data",
          "data": {
            "text/plain": [
              "<Figure size 1440x360 with 1 Axes>"
            ],
            "image/png": "[encoded data removed]"
          },
          "metadata": {
            "needs_background": "light"
          }
        },
        {
          "output_type": "stream",
          "name": "stdout",
          "text": [
            "\n"
          ]
        }
      ]
    },
    {
      "cell_type": "markdown",
      "source": [
        "## Problema 3\n",
        "\n",
        "Hacer una tabla donde la primera columna sea el mes, la segunda el índice ID(por trampa) y la tercera el índice Cx para el año 2015"
      ],
      "metadata": {
        "id": "jxNXBheAgNaf"
      }
    },
    {
      "cell_type": "code",
      "source": [
        "df1=pd.DataFrame(df['2015'].groupby('Mes').sum()['No_DiaphorinasXtrampa'])\n",
        "\n",
        "varianza=df['2015'].groupby('Mes')['No_DiaphorinasXtrampa'].var()\n",
        "prom=df['2015'].groupby('Mes')['No_DiaphorinasXtrampa'].mean()\n",
        "suma=df['2015'].groupby('Mes')['No_DiaphorinasXtrampa'].sum()\n",
        "\n",
        "id=varianza/prom\n",
        "cx=((varianza/prom)-1)/(suma-1)\n",
        "\n",
        "df1['Id']=id\n",
        "df1['Cx']=cx\n",
        "\n",
        "\n",
        "df1.index=['Enero','Febrero','Marzo','Abril','Mayo','Junio','Julio','Agosto','Septiembre','Octubre','Noviembre','Diciembre']\n",
        "df1=df1.drop(['No_DiaphorinasXtrampa'],axis=1)\n",
        "df1.index.names=['Mes']\n",
        "df1=df1.reset_index()\n",
        "\n",
        "df1"
      ],
      "metadata": {
        "colab": {
          "base_uri": "https://localhost:8080/",
          "height": 426
        },
        "id": "ISE4eDnOWIf5",
        "outputId": "e6c93c13-6d13-47b9-ff1b-b6e81daa8f69"
      },
      "execution_count": 269,
      "outputs": [
        {
          "output_type": "execute_result",
          "data": {
            "text/plain": [
              "           Mes        Id        Cx\n",
              "0        Enero  1.922481  0.083862\n",
              "1      Febrero  3.399692  0.000660\n",
              "2        Marzo  4.740861  0.000745\n",
              "3        Abril  2.773530  0.000431\n",
              "4         Mayo  2.360198  0.001176\n",
              "5        Junio  5.104849  0.003985\n",
              "6        Julio  4.023629  0.001978\n",
              "7       Agosto  5.398486  0.001228\n",
              "8   Septiembre  8.134861  0.001464\n",
              "9      Octubre  8.646265  0.001128\n",
              "10   Noviembre  4.990240  0.001596\n",
              "11   Diciembre  4.800908  0.002793"
            ],
            "text/html": [
              "\n",
              "  <div id=\"df-df001fa8-1a9b-4af0-8b93-77850ba0e60d\">\n",
              "    <div class=\"colab-df-container\">\n",
              "      <div>\n",
              "<style scoped>\n",
              "    .dataframe tbody tr th:only-of-type {\n",
              "        vertical-align: middle;\n",
              "    }\n",
              "\n",
              "    .dataframe tbody tr th {\n",
              "        vertical-align: top;\n",
              "    }\n",
              "\n",
              "    .dataframe thead th {\n",
              "        text-align: right;\n",
              "    }\n",
              "</style>\n",
              "<table border=\"1\" class=\"dataframe\">\n",
              "  <thead>\n",
              "    <tr style=\"text-align: right;\">\n",
              "      <th></th>\n",
              "      <th>Mes</th>\n",
              "      <th>Id</th>\n",
              "      <th>Cx</th>\n",
              "    </tr>\n",
              "  </thead>\n",
              "  <tbody>\n",
              "    <tr>\n",
              "      <th>0</th>\n",
              "      <td>Enero</td>\n",
              "      <td>1.922481</td>\n",
              "      <td>0.083862</td>\n",
              "    </tr>\n",
              "    <tr>\n",
              "      <th>1</th>\n",
              "      <td>Febrero</td>\n",
              "      <td>3.399692</td>\n",
              "      <td>0.000660</td>\n",
              "    </tr>\n",
              "    <tr>\n",
              "      <th>2</th>\n",
              "      <td>Marzo</td>\n",
              "      <td>4.740861</td>\n",
              "      <td>0.000745</td>\n",
              "    </tr>\n",
              "    <tr>\n",
              "      <th>3</th>\n",
              "      <td>Abril</td>\n",
              "      <td>2.773530</td>\n",
              "      <td>0.000431</td>\n",
              "    </tr>\n",
              "    <tr>\n",
              "      <th>4</th>\n",
              "      <td>Mayo</td>\n",
              "      <td>2.360198</td>\n",
              "      <td>0.001176</td>\n",
              "    </tr>\n",
              "    <tr>\n",
              "      <th>5</th>\n",
              "      <td>Junio</td>\n",
              "      <td>5.104849</td>\n",
              "      <td>0.003985</td>\n",
              "    </tr>\n",
              "    <tr>\n",
              "      <th>6</th>\n",
              "      <td>Julio</td>\n",
              "      <td>4.023629</td>\n",
              "      <td>0.001978</td>\n",
              "    </tr>\n",
              "    <tr>\n",
              "      <th>7</th>\n",
              "      <td>Agosto</td>\n",
              "      <td>5.398486</td>\n",
              "      <td>0.001228</td>\n",
              "    </tr>\n",
              "    <tr>\n",
              "      <th>8</th>\n",
              "      <td>Septiembre</td>\n",
              "      <td>8.134861</td>\n",
              "      <td>0.001464</td>\n",
              "    </tr>\n",
              "    <tr>\n",
              "      <th>9</th>\n",
              "      <td>Octubre</td>\n",
              "      <td>8.646265</td>\n",
              "      <td>0.001128</td>\n",
              "    </tr>\n",
              "    <tr>\n",
              "      <th>10</th>\n",
              "      <td>Noviembre</td>\n",
              "      <td>4.990240</td>\n",
              "      <td>0.001596</td>\n",
              "    </tr>\n",
              "    <tr>\n",
              "      <th>11</th>\n",
              "      <td>Diciembre</td>\n",
              "      <td>4.800908</td>\n",
              "      <td>0.002793</td>\n",
              "    </tr>\n",
              "  </tbody>\n",
              "</table>\n",
              "</div>\n",
              "      <button class=\"colab-df-convert\" onclick=\"convertToInteractive('df-df001fa8-1a9b-4af0-8b93-77850ba0e60d')\"\n",
              "              title=\"Convert this dataframe to an interactive table.\"\n",
              "              style=\"display:none;\">\n",
              "        \n",
              "  <svg xmlns=\"http://www.w3.org/2000/svg\" height=\"24px\"viewBox=\"0 0 24 24\"\n",
              "       width=\"24px\">\n",
              "    <path d=\"M0 0h24v24H0V0z\" fill=\"none\"/>\n",
              "    <path d=\"M18.56 5.44l.94 2.06.94-2.06 2.06-.94-2.06-.94-.94-2.06-.94 2.06-2.06.94zm-11 1L8.5 8.5l.94-2.06 2.06-.94-2.06-.94L8.5 2.5l-.94 2.06-2.06.94zm10 10l.94 2.06.94-2.06 2.06-.94-2.06-.94-.94-2.06-.94 2.06-2.06.94z\"/><path d=\"M17.41 7.96l-1.37-1.37c-.4-.4-.92-.59-1.43-.59-.52 0-1.04.2-1.43.59L10.3 9.45l-7.72 7.72c-.78.78-.78 2.05 0 2.83L4 21.41c.39.39.9.59 1.41.59.51 0 1.02-.2 1.41-.59l7.78-7.78 2.81-2.81c.8-.78.8-2.07 0-2.86zM5.41 20L4 18.59l7.72-7.72 1.47 1.35L5.41 20z\"/>\n",
              "  </svg>\n",
              "      </button>\n",
              "      \n",
              "  <style>\n",
              "    .colab-df-container {\n",
              "      display:flex;\n",
              "      flex-wrap:wrap;\n",
              "      gap: 12px;\n",
              "    }\n",
              "\n",
              "    .colab-df-convert {\n",
              "      background-color: #E8F0FE;\n",
              "      border: none;\n",
              "      border-radius: 50%;\n",
              "      cursor: pointer;\n",
              "      display: none;\n",
              "      fill: #1967D2;\n",
              "      height: 32px;\n",
              "      padding: 0 0 0 0;\n",
              "      width: 32px;\n",
              "    }\n",
              "\n",
              "    .colab-df-convert:hover {\n",
              "      background-color: #E2EBFA;\n",
              "      box-shadow: 0px 1px 2px rgba(60, 64, 67, 0.3), 0px 1px 3px 1px rgba(60, 64, 67, 0.15);\n",
              "      fill: #174EA6;\n",
              "    }\n",
              "\n",
              "    [theme=dark] .colab-df-convert {\n",
              "      background-color: #3B4455;\n",
              "      fill: #D2E3FC;\n",
              "    }\n",
              "\n",
              "    [theme=dark] .colab-df-convert:hover {\n",
              "      background-color: #434B5C;\n",
              "      box-shadow: 0px 1px 3px 1px rgba(0, 0, 0, 0.15);\n",
              "      filter: drop-shadow(0px 1px 2px rgba(0, 0, 0, 0.3));\n",
              "      fill: #FFFFFF;\n",
              "    }\n",
              "  </style>\n",
              "\n",
              "      <script>\n",
              "        const buttonEl =\n",
              "          document.querySelector('#df-df001fa8-1a9b-4af0-8b93-77850ba0e60d button.colab-df-convert');\n",
              "        buttonEl.style.display =\n",
              "          google.colab.kernel.accessAllowed ? 'block' : 'none';\n",
              "\n",
              "        async function convertToInteractive(key) {\n",
              "          const element = document.querySelector('#df-df001fa8-1a9b-4af0-8b93-77850ba0e60d');\n",
              "          const dataTable =\n",
              "            await google.colab.kernel.invokeFunction('convertToInteractive',\n",
              "                                                     [key], {});\n",
              "          if (!dataTable) return;\n",
              "\n",
              "          const docLinkHtml = 'Like what you see? Visit the ' +\n",
              "            '<a target=\"_blank\" href=https://colab.research.google.com/notebooks/data_table.ipynb>data table notebook</a>'\n",
              "            + ' to learn more about interactive tables.';\n",
              "          element.innerHTML = '';\n",
              "          dataTable['output_type'] = 'display_data';\n",
              "          await google.colab.output.renderOutput(dataTable, element);\n",
              "          const docLink = document.createElement('div');\n",
              "          docLink.innerHTML = docLinkHtml;\n",
              "          element.appendChild(docLink);\n",
              "        }\n",
              "      </script>\n",
              "    </div>\n",
              "  </div>\n",
              "  "
            ]
          },
          "metadata": {},
          "execution_count": 269
        }
      ]
    },
    {
      "cell_type": "markdown",
      "source": [
        "## Problema 4 \n",
        "\n",
        "Hacer una gráfica del indice Id (por trampa) como función del mes que abarque desde 2015 hasta 2020"
      ],
      "metadata": {
        "id": "eykzHeIEqSkH"
      }
    },
    {
      "cell_type": "code",
      "source": [
        "from pandas.io.formats.style_render import DataFrame\n",
        "def obtener_id (x,year):\n",
        "\n",
        "  varianza=x.groupby('Mes')['No_DiaphorinasXtrampa'].var()\n",
        "  prom=x.groupby('Mes')['No_DiaphorinasXtrampa'].mean()\n",
        "\n",
        "  id=varianza/prom\n",
        "\n",
        "  id=DataFrame(id)\n",
        "  id.index=['01','02','03','04','05','06','07','08','09','10','11','12']\n",
        "  id=id.reset_index()\n",
        "  id['año']=((year*np.ones(12).astype(int))).astype(str)\n",
        "\n",
        "  return(id)\n",
        "\n",
        "cd=obtener_id(df['2015'],2015)\n",
        "df['2019']=df['2019'].rename(columns={'DiaphorinaXTrampa':'No_DiaphorinasXtrampa'})\n",
        "\n",
        "\n",
        "for i in range(2016,2021):\n",
        "  if i != 2018:\n",
        "    cd1=obtener_id(df[str(i)],i)\n",
        "    cd=[cd,cd1]\n",
        "    cd=pd.concat(cd)\n",
        "    cd.reset_index(drop=True, inplace=True)\n",
        "\n",
        "cd.columns=['Mes','Id','Año']"
      ],
      "metadata": {
        "id": "yi-_gB9Egr4y"
      },
      "execution_count": 270,
      "outputs": []
    },
    {
      "cell_type": "code",
      "source": [
        "cd['Fecha']=cd.Año.str.cat(cd.Mes, sep=' - ',)\n",
        "cd=cd.groupby('Fecha').sum()\n",
        "cd.plot(xlabel='Fecha (año, mes), exceptuando año 2018',ylabel='Indice Id (por trampa)',figsize=(20,5))"
      ],
      "metadata": {
        "colab": {
          "base_uri": "https://localhost:8080/",
          "height": 351
        },
        "id": "9SpDXFU2rIzU",
        "outputId": "41cdd2f3-4195-4929-fbdf-4e4428088b96"
      },
      "execution_count": 271,
      "outputs": [
        {
          "output_type": "execute_result",
          "data": {
            "text/plain": [
              "<matplotlib.axes._subplots.AxesSubplot at 0x7f40bf7272b0>"
            ]
          },
          "metadata": {},
          "execution_count": 271
        },
        {
          "output_type": "display_data",
          "data": {
            "text/plain": [
              "<Figure size 1440x360 with 1 Axes>"
            ],
            "image/png": "[encoded data removed]"
          },
          "metadata": {
            "needs_background": "light"
          }
        }
      ]
    },
    {
      "cell_type": "markdown",
      "source": [
        "## Problema 5 \n",
        "\n",
        "Hacer una gráfica del centro de masa de las diaphorinas como función del mes que abarque de 2017 a 2020. Nota : CM=pos*Diaph/Ntrampas, donde CM se refiere al centro de masa, pos es la posición de la trampa, Diaph es el promedio de diaphorinas en la trampa y Ntrampas es el número de trampas que se consideraron en el cálculo"
      ],
      "metadata": {
        "id": "w9VxXBPrzyhJ"
      }
    },
    {
      "cell_type": "code",
      "source": [
        "df['2015'].columns"
      ],
      "metadata": {
        "colab": {
          "base_uri": "https://localhost:8080/"
        },
        "id": "x_JbRVfUzpBP",
        "outputId": "30c5c8c4-ea44-42dd-b023-89ce963806bd"
      },
      "execution_count": 277,
      "outputs": [
        {
          "output_type": "execute_result",
          "data": {
            "text/plain": [
              "Index(['Fecha', 'Latitud', 'Longitud', 'Ubicacion', 'Municipio', 'Comunidad',\n",
              "       'Productor', 'Cultivo', 'Fenologia', 'Superficie_ha',\n",
              "       'No_Trampas_Instaladas', 'No_Trampas_Revisadas',\n",
              "       'No_DiaphorinasXtrampa', 'Mes', 'Semana'],\n",
              "      dtype='object')"
            ]
          },
          "metadata": {},
          "execution_count": 277
        }
      ]
    },
    {
      "cell_type": "code",
      "source": [],
      "metadata": {
        "id": "8L2Y6b_J06F4"
      },
      "execution_count": null,
      "outputs": []
    }
  ]
}